{
  "nbformat": 4,
  "nbformat_minor": 0,
  "metadata": {
    "colab": {
      "name": "Progamming_Assignment_11.ipynb",
      "provenance": [],
      "authorship_tag": "ABX9TyP5Xqpgbgxn1FzLb2xGS2Wx"
    },
    "kernelspec": {
      "name": "python3",
      "display_name": "Python 3"
    },
    "language_info": {
      "name": "python"
    }
  },
  "cells": [
    {
      "cell_type": "markdown",
      "source": [
        "1. Write a Python program to find words which are greater than given length k?"
      ],
      "metadata": {
        "id": "LNUDrf7uR6I9"
      }
    },
    {
      "cell_type": "code",
      "source": [
        "sentence = 'Python is very simple and easy to use language'\n",
        "\n",
        "k=5\n",
        "for word in sentence.split():\n",
        "    if(len(word)>=k):\n",
        "        print(word)"
      ],
      "metadata": {
        "colab": {
          "base_uri": "https://localhost:8080/"
        },
        "id": "Q-N3hdQaR7S0",
        "outputId": "ed8273e1-76d4-489b-b7de-053614a9fd9b"
      },
      "execution_count": 1,
      "outputs": [
        {
          "output_type": "stream",
          "name": "stdout",
          "text": [
            "Python\n",
            "simple\n",
            "language\n"
          ]
        }
      ]
    },
    {
      "cell_type": "markdown",
      "source": [
        "2. Write a Python program for removing i-th character from a string?"
      ],
      "metadata": {
        "id": "Zl6jEtaOSmwk"
      }
    },
    {
      "cell_type": "code",
      "source": [
        "words = 'Python'\n",
        "for i in range(len(words)):\n",
        "    if(i!=3):\n",
        "        print(words[i])"
      ],
      "metadata": {
        "colab": {
          "base_uri": "https://localhost:8080/"
        },
        "id": "CX2uqIGfSt09",
        "outputId": "24eb6140-67e9-4b16-f463-7383f0295148"
      },
      "execution_count": 2,
      "outputs": [
        {
          "output_type": "stream",
          "name": "stdout",
          "text": [
            "P\n",
            "y\n",
            "t\n",
            "o\n",
            "n\n"
          ]
        }
      ]
    },
    {
      "cell_type": "markdown",
      "source": [
        "3. Write a Python program to split and join a string?"
      ],
      "metadata": {
        "id": "Rtsnei7aTSB1"
      }
    },
    {
      "cell_type": "code",
      "source": [
        "sentence = 'Python is very simple and easy to use language'\n",
        "sensplit = sentence.split()\n",
        "new_sen = '_'.join(sensplit)\n",
        "print(f'sentence after splitting: {sensplit}')\n",
        "print(f\"sentence after joining with '_': {new_sen}\")"
      ],
      "metadata": {
        "colab": {
          "base_uri": "https://localhost:8080/"
        },
        "id": "popenq-ATTfc",
        "outputId": "bf82462f-bed8-437f-bdfa-ebd116bfd00e"
      },
      "execution_count": 3,
      "outputs": [
        {
          "output_type": "stream",
          "name": "stdout",
          "text": [
            "sentence after splitting: ['Python', 'is', 'very', 'simple', 'and', 'easy', 'to', 'use', 'language']\n",
            "sentence after joining with '_': Python_is_very_simple_and_easy_to_use_language\n"
          ]
        }
      ]
    },
    {
      "cell_type": "markdown",
      "source": [
        "4. Write a Python to check if a given string is binary string or not?"
      ],
      "metadata": {
        "id": "GcFDSQ35VKMK"
      }
    },
    {
      "cell_type": "code",
      "source": [
        "word1 = 'Python'\n",
        "word2 = 'e'\n",
        "\n",
        "def checkBinary(word):\n",
        "    if(len(word)<=1):\n",
        "        return 'Binary'\n",
        "    else:\n",
        "        return 'Non Binary'\n",
        "\n",
        "print(f'{word1} is {checkBinary(word1)}')\n",
        "print(f'{word2} is {checkBinary(word2)}')"
      ],
      "metadata": {
        "colab": {
          "base_uri": "https://localhost:8080/"
        },
        "id": "ZW0XzG8FVRdk",
        "outputId": "bbcaf14d-7ba2-4f55-ad91-c49cfe17683a"
      },
      "execution_count": 4,
      "outputs": [
        {
          "output_type": "stream",
          "name": "stdout",
          "text": [
            "Python is Non Binary\n",
            "e is Binary\n"
          ]
        }
      ]
    },
    {
      "cell_type": "markdown",
      "source": [
        "5. Write a Python program to find uncommon words from two Strings?"
      ],
      "metadata": {
        "id": "QeYmcnlVWBVz"
      }
    },
    {
      "cell_type": "code",
      "source": [
        "word1 = 'Python'\n",
        "word2 = 'Javascript'\n",
        "\n",
        "lst = []\n",
        "for i in word1.lower():\n",
        "    if i not in word2.lower():\n",
        "        lst.append(i)\n",
        "\n",
        "for i in word2.lower():\n",
        "    if i not in word1.lower():\n",
        "        lst.append(i)\n",
        "\n",
        "print(f'Uncommon word in {word1} and {word2} is {lst}')"
      ],
      "metadata": {
        "colab": {
          "base_uri": "https://localhost:8080/"
        },
        "id": "k1LkstX5WCRa",
        "outputId": "0d25bb03-55a5-4d49-9e2a-286b2677574c"
      },
      "execution_count": 5,
      "outputs": [
        {
          "output_type": "stream",
          "name": "stdout",
          "text": [
            "Uncommon word in Python and Javascript is ['y', 'h', 'o', 'n', 'j', 'a', 'v', 'a', 's', 'c', 'r', 'i']\n"
          ]
        }
      ]
    },
    {
      "cell_type": "markdown",
      "source": [
        "6. Write a Python to find all duplicate characters in string?"
      ],
      "metadata": {
        "id": "IucYhq67W0eo"
      }
    },
    {
      "cell_type": "code",
      "source": [
        "lst = []\n",
        "for i in word1.lower():\n",
        "    if i in word2.lower():\n",
        "        lst.append(i)\n",
        "\n",
        "print(f'Duplicate words in {word1} and {word2} are {lst}') "
      ],
      "metadata": {
        "colab": {
          "base_uri": "https://localhost:8080/"
        },
        "id": "pZbBU2kZYBg4",
        "outputId": "650a5cab-4154-403b-80e3-b9fb7ef87da4"
      },
      "execution_count": 6,
      "outputs": [
        {
          "output_type": "stream",
          "name": "stdout",
          "text": [
            "Duplicate words in Python and Javascript are ['p', 't']\n"
          ]
        }
      ]
    },
    {
      "cell_type": "markdown",
      "source": [
        "7. Write a Python Program to check if a string contains any special character?"
      ],
      "metadata": {
        "id": "ty7dFHrnYcfH"
      }
    },
    {
      "cell_type": "code",
      "source": [
        "char = \"[$&+,:;=?@#|'<>.-^*()%!]\"\n",
        "sentence = 'Python has such an amazing libraries!'\n",
        "for i in char:\n",
        "    if i in sentence:\n",
        "        print(f'Special character {i} is present in sentence')"
      ],
      "metadata": {
        "colab": {
          "base_uri": "https://localhost:8080/"
        },
        "id": "my-Qf1D8Yc74",
        "outputId": "3c114ab5-714b-47e9-b4e4-5af3cb50c69b"
      },
      "execution_count": 7,
      "outputs": [
        {
          "output_type": "stream",
          "name": "stdout",
          "text": [
            "Special character ! is present in sentence\n"
          ]
        }
      ]
    }
  ]
}