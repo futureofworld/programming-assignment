{
  "nbformat": 4,
  "nbformat_minor": 0,
  "metadata": {
    "colab": {
      "name": "Progamming_Assignment_12.ipynb",
      "provenance": [],
      "authorship_tag": "ABX9TyP9MC2Q0mntHaidXhwWi3Na"
    },
    "kernelspec": {
      "name": "python3",
      "display_name": "Python 3"
    },
    "language_info": {
      "name": "python"
    }
  },
  "cells": [
    {
      "cell_type": "markdown",
      "source": [
        "1. Write a Python program to Extract Unique values dictionary values?"
      ],
      "metadata": {
        "id": "MfGOY3D5cKo9"
      }
    },
    {
      "cell_type": "code",
      "execution_count": 1,
      "metadata": {
        "colab": {
          "base_uri": "https://localhost:8080/"
        },
        "id": "MfEqshxKcI4Y",
        "outputId": "8fbc8118-168a-4012-8af5-a99ccb79159c"
      },
      "outputs": [
        {
          "output_type": "stream",
          "name": "stdout",
          "text": [
            "Unique values dictionary values are [1, 2, 3, 5, 6, 7, 8, 9]\n"
          ]
        }
      ],
      "source": [
        "dict1 = {'python':[1,5,2],\n",
        "         'is':[5,7,5],\n",
        "         'simple':[6,2,7], \n",
        "         'to':[6,7,1,8],\n",
        "         'learn':[9,3,8,3]}\n",
        "\n",
        "unique = list(sorted({ele for value in dict1.values() for ele in value}))\n",
        "print(f'Unique values dictionary values are {unique}')"
      ]
    },
    {
      "cell_type": "markdown",
      "source": [
        "2. Write a Python program to find the sum of all items in a dictionary?"
      ],
      "metadata": {
        "id": "5RFNnGwtcRHM"
      }
    },
    {
      "cell_type": "code",
      "source": [
        "fruits = {'apple':8,\n",
        "          'banana':12,\n",
        "          'oranges':6,\n",
        "          'pear':5}\n",
        "\n",
        "sum = 0\n",
        "for i in fruits.values():\n",
        "    sum += i\n",
        "\n",
        "print(f'sum of all items in dictionary is {sum}')"
      ],
      "metadata": {
        "colab": {
          "base_uri": "https://localhost:8080/"
        },
        "id": "fn-WF1WrcRyT",
        "outputId": "7296334a-73d1-4515-eac2-1ec02d263343"
      },
      "execution_count": 2,
      "outputs": [
        {
          "output_type": "stream",
          "name": "stdout",
          "text": [
            "sum of all items in dictionary is 31\n"
          ]
        }
      ]
    },
    {
      "cell_type": "markdown",
      "source": [
        "3. Write a Python program to Merging two Dictionaries?"
      ],
      "metadata": {
        "id": "nG67J6iBc4tj"
      }
    },
    {
      "cell_type": "code",
      "source": [
        "dict1 = {'apple':8,\n",
        "         'banana':12,}\n",
        "\n",
        "dict2 = {'oranges':6,\n",
        "         'pear':5}\n",
        "\n",
        "dict1.update(dict2)\n",
        "print(dict1)"
      ],
      "metadata": {
        "colab": {
          "base_uri": "https://localhost:8080/"
        },
        "id": "dQf0oLjyc5b7",
        "outputId": "f1966999-e603-4b09-b6d7-5d5962889f5c"
      },
      "execution_count": 3,
      "outputs": [
        {
          "output_type": "stream",
          "name": "stdout",
          "text": [
            "{'apple': 8, 'banana': 12, 'oranges': 6, 'pear': 5}\n"
          ]
        }
      ]
    },
    {
      "cell_type": "markdown",
      "source": [
        "4. Write a Python program to convert key-values list to flat dictionary?"
      ],
      "metadata": {
        "id": "ib4LQ7Glddfi"
      }
    },
    {
      "cell_type": "code",
      "source": [
        "lst1 = ['apple', 'banana', 'oranges', 'pear']\n",
        "lst2 = [8, 12, 6, 5]\n",
        "dict1 = dict()\n",
        "for i in range(len(lst1)):\n",
        "    dict1[lst1[i]] = lst2[i]\n",
        "\n",
        "print(dict1)"
      ],
      "metadata": {
        "colab": {
          "base_uri": "https://localhost:8080/"
        },
        "id": "93_XVLJMdeA6",
        "outputId": "b0a5ba86-da91-46e4-a851-dd85f32dcd2b"
      },
      "execution_count": 4,
      "outputs": [
        {
          "output_type": "stream",
          "name": "stdout",
          "text": [
            "{'apple': 8, 'banana': 12, 'oranges': 6, 'pear': 5}\n"
          ]
        }
      ]
    },
    {
      "cell_type": "markdown",
      "source": [
        "5. Write a Python program to insertion at the beginning in OrderedDict?"
      ],
      "metadata": {
        "id": "0Ap7-KSneIga"
      }
    },
    {
      "cell_type": "code",
      "source": [
        "from collections import OrderedDict\n",
        "fruit = OrderedDict([('apple',8),\n",
        "          ('banana',12),\n",
        "          ('oranges',6),\n",
        "          ('pear',5)])\n",
        "\n",
        "\n",
        "fruit = OrderedDict([('mango',20)] + list(fruit.items()))\n",
        "print(fruit)"
      ],
      "metadata": {
        "colab": {
          "base_uri": "https://localhost:8080/"
        },
        "id": "21i7rUAOeJF6",
        "outputId": "270f2073-7dff-4f8f-cf7c-e270956b5b9c"
      },
      "execution_count": 5,
      "outputs": [
        {
          "output_type": "stream",
          "name": "stdout",
          "text": [
            "OrderedDict([('mango', 20), ('apple', 8), ('banana', 12), ('oranges', 6), ('pear', 5)])\n"
          ]
        }
      ]
    },
    {
      "cell_type": "markdown",
      "source": [
        "6. Write a Python program to check order of character in string using OrderedDict()?"
      ],
      "metadata": {
        "id": "H9HWCxGOi1ze"
      }
    },
    {
      "cell_type": "code",
      "source": [
        "from collections import OrderedDict \n",
        "def checkOrder(string, pattern): \n",
        "    dic = OrderedDict.fromkeys(string) \n",
        "    ptr = 0\n",
        "    for key,value in dic.items(): \n",
        "        if (key == pattern[ptr]): \n",
        "            ptr = ptr + 1\n",
        "        if (ptr == (len(pattern))): \n",
        "            return 'True'\n",
        "    return 'False'\n",
        "\n",
        "string = 'Study tonight'\n",
        "pattern = 'stu'\n",
        "print (checkOrder(string,pattern))\n",
        "\n",
        "string2= 'Welcome'\n",
        "pattern2= 'cm'\n",
        "print (checkOrder(string2,pattern2)) "
      ],
      "metadata": {
        "colab": {
          "base_uri": "https://localhost:8080/"
        },
        "id": "ppxdT4IQgFdD",
        "outputId": "d2430efa-392a-481e-824d-4635d3294114"
      },
      "execution_count": 6,
      "outputs": [
        {
          "output_type": "stream",
          "name": "stdout",
          "text": [
            "False\n",
            "True\n"
          ]
        }
      ]
    },
    {
      "cell_type": "markdown",
      "source": [
        "7. Write a Python program to sort Python Dictionaries by Key or Value?"
      ],
      "metadata": {
        "id": "ay-_5QkBj24e"
      }
    },
    {
      "cell_type": "code",
      "source": [
        "fruits = {'apple':8,\n",
        "          'banana':12,\n",
        "          'oranges':6,\n",
        "          'pear':5}\n",
        "\n",
        "print(sorted(fruits.keys()))\n",
        "print(sorted(fruits.values()))"
      ],
      "metadata": {
        "colab": {
          "base_uri": "https://localhost:8080/"
        },
        "id": "2ahRMhs8j3gs",
        "outputId": "4c2c6661-013a-415c-9231-621765e30b1b"
      },
      "execution_count": 7,
      "outputs": [
        {
          "output_type": "stream",
          "name": "stdout",
          "text": [
            "['apple', 'banana', 'oranges', 'pear']\n",
            "[5, 6, 8, 12]\n"
          ]
        }
      ]
    }
  ]
}