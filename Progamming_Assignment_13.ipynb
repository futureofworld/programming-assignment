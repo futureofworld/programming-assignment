{
  "nbformat": 4,
  "nbformat_minor": 0,
  "metadata": {
    "colab": {
      "name": "Progamming_Assignment_13.ipynb",
      "provenance": [],
      "authorship_tag": "ABX9TyOm9K49S/ku5ntvRAjuU6d1"
    },
    "kernelspec": {
      "name": "python3",
      "display_name": "Python 3"
    },
    "language_info": {
      "name": "python"
    }
  },
  "cells": [
    {
      "cell_type": "markdown",
      "source": [
        "Question 1:\n",
        "Write a program that calculates and prints the value according to the given formula:\n",
        "Q = Square root of [(2 * C * D)/H]\n",
        "Following are the fixed values of C and H:\n",
        "C is 50. H is 30.\n",
        "D is the variable whose values should be input to your program in a comma-separated\n",
        "sequence.\n",
        "Example\n",
        "Let us assume the following comma separated input sequence is given to the program:\n",
        "100,150,180\n",
        "The output of the program should be:\n",
        "18,22,24"
      ],
      "metadata": {
        "id": "-g9tjr63dzKu"
      }
    },
    {
      "cell_type": "code",
      "execution_count": 1,
      "metadata": {
        "colab": {
          "base_uri": "https://localhost:8080/"
        },
        "id": "WpJN85sbdyPe",
        "outputId": "0aeac8f0-3cf3-4d28-cdfc-b1a16602b651"
      },
      "outputs": [
        {
          "output_type": "stream",
          "name": "stdout",
          "text": [
            "Enter three numbers: 100,150,180\n",
            "[18, 22, 24]\n"
          ]
        }
      ],
      "source": [
        "import math\n",
        "c = 50\n",
        "h = 30\n",
        "D = input('Enter three numbers: ').split(',')\n",
        "d = list(map(int, D))\n",
        "out = []\n",
        "\n",
        "for i in d:\n",
        "    q = math.sqrt((2*c*i)/h)\n",
        "    out.append(round(q))\n",
        "print(out)"
      ]
    },
    {
      "cell_type": "markdown",
      "source": [
        "Question 2:\n",
        "Write a program which takes 2 digits, X,Y as input and generates a 2-dimensional array. The\n",
        "element value in the i-th row and j-th column of the array should be i*j.\n",
        "Note: i=0,1.., X-1; j=0,1,¡Y-1.\n",
        "Example\n",
        "Suppose the following inputs are given to the program:\n",
        "3,5\n",
        "Then, the output of the program should be:\n",
        "[[0, 0, 0, 0, 0], [0, 1, 2, 3, 4], [0, 2, 4, 6, 8]]"
      ],
      "metadata": {
        "id": "NKB3-9QYhS9y"
      }
    },
    {
      "cell_type": "code",
      "source": [
        "import numpy as np\n",
        "x, y = input('Enter row and colulmn: ').split(',')\n",
        "x = int(x)\n",
        "y = int(y)\n",
        "\n",
        "arr = np.empty([x,y])\n",
        "\n",
        "for i in range(int(x)):\n",
        "    for j in range(y):\n",
        "        arr[i][j] = i*j\n",
        "\n",
        "print(arr)"
      ],
      "metadata": {
        "colab": {
          "base_uri": "https://localhost:8080/"
        },
        "id": "TEVQ497bhThr",
        "outputId": "7d8d6e05-f000-4dac-a80d-30eed59ad81f"
      },
      "execution_count": 2,
      "outputs": [
        {
          "output_type": "stream",
          "name": "stdout",
          "text": [
            "Enter row and colulmn: 3,5\n",
            "[[0. 0. 0. 0. 0.]\n",
            " [0. 1. 2. 3. 4.]\n",
            " [0. 2. 4. 6. 8.]]\n"
          ]
        }
      ]
    },
    {
      "cell_type": "markdown",
      "source": [
        "Question 3:\n",
        "Write a program that accepts a comma separated sequence of words as input and prints the\n",
        "words in a comma-separated sequence after sorting them alphabetically.\n",
        "Suppose the following input is supplied to the program:\n",
        "without,hello,bag,world\n",
        "Then, the output should be:\n",
        "bag,hello,without,world"
      ],
      "metadata": {
        "id": "WUr4KC9qimjU"
      }
    },
    {
      "cell_type": "code",
      "source": [
        "lst = input('Enter a comma seperated words: ').split(',')\n",
        "lst.sort()\n",
        "print('words after sorting alphabetically', ','.join(lst))"
      ],
      "metadata": {
        "colab": {
          "base_uri": "https://localhost:8080/"
        },
        "id": "waqfjWYiinAw",
        "outputId": "a9e3ba68-3568-4ab2-d1c0-51ab956d2303"
      },
      "execution_count": 3,
      "outputs": [
        {
          "output_type": "stream",
          "name": "stdout",
          "text": [
            "Enter a comma seperated words: without,hello,bag,world\n",
            "words after sorting alphabetically bag,hello,without,world\n"
          ]
        }
      ]
    },
    {
      "cell_type": "markdown",
      "source": [
        "Question 4:\n",
        "Write a program that accepts a sequence of whitespace separated words as input and prints\n",
        "the words after removing all duplicate words and sorting them alphanumerically.\n",
        "Suppose the following input is supplied to the program:\n",
        "hello world and practice makes perfect and hello world again\n",
        "Then, the output should be:\n",
        "again and hello makes perfect practice world"
      ],
      "metadata": {
        "id": "RZbiqpOnj2Qg"
      }
    },
    {
      "cell_type": "code",
      "source": [
        "word = set(input('Enter a sentence: ').split())\n",
        "lst = list(word)\n",
        "lst.sort()\n",
        "print(' '.join(lst))"
      ],
      "metadata": {
        "colab": {
          "base_uri": "https://localhost:8080/"
        },
        "id": "TtWDmgwGj2-A",
        "outputId": "24034ce9-bad6-42d7-cbed-d75feba3b784"
      },
      "execution_count": 4,
      "outputs": [
        {
          "output_type": "stream",
          "name": "stdout",
          "text": [
            "Enter a sentence: hello world and practice makes perfect and hello world again\n",
            "again and hello makes perfect practice world\n"
          ]
        }
      ]
    },
    {
      "cell_type": "markdown",
      "source": [
        "Question 5:\n",
        "Write a program that accepts a sentence and calculate the number of letters and digits.\n",
        "Suppose the following input is supplied to the program:\n",
        "hello world! 123\n",
        "Then, the output should be:\n",
        "LETTERS 10\n",
        "\n",
        "DIGITS 3"
      ],
      "metadata": {
        "id": "vFA0Twk8kvf3"
      }
    },
    {
      "cell_type": "code",
      "source": [
        "\n",
        "\n",
        "letAndDigit = input('Enter something: ')\n",
        "\n",
        "letter = 0\n",
        "digit = 0\n",
        "for i in letAndDigit:\n",
        "    try:\n",
        "        i = int(i)\n",
        "        digit += 1\n",
        "    except:\n",
        "        if i.isalpha():\n",
        "            letter += 1\n",
        "        \n",
        "print(f'LETTERS {letter}')\n",
        "print(f'DIGITS {digit}')"
      ],
      "metadata": {
        "colab": {
          "base_uri": "https://localhost:8080/"
        },
        "id": "tGrAbFtSkwBZ",
        "outputId": "a5d7a976-9294-452f-9dec-6dfd15f76ec7"
      },
      "execution_count": 5,
      "outputs": [
        {
          "output_type": "stream",
          "name": "stdout",
          "text": [
            "Enter something: hello world! 123\n",
            "LETTERS 10\n",
            "DIGITS 3\n"
          ]
        }
      ]
    },
    {
      "cell_type": "markdown",
      "source": [
        "Question 6:\n",
        "A website requires the users to input username and password to register. Write a program to\n",
        "check the validity of password input by users.\n",
        "Following are the criteria for checking the password:\n",
        "1. At least 1 letter between [a-z]\n",
        "2. At least 1 number between [0-9]\n",
        "1. At least 1 letter between [A-Z]\n",
        "3. At least 1 character from [$#@]\n",
        "4. Minimum length of transaction password: 6\n",
        "5. Maximum length of transaction password: 12\n",
        "Your program should accept a sequence of comma separated passwords and will check them\n",
        "according to the above criteria. Passwords that match the criteria are to be printed, each\n",
        "separated by a comma.\n",
        "Example\n",
        "If the following passwords are given as input to the program:\n",
        "ABd1234@1,a F1#,2w3E*,2We3345\n",
        "Then, the output of the program should be:\n",
        "ABd1234@1"
      ],
      "metadata": {
        "id": "7PyVFK7BoLwD"
      }
    },
    {
      "cell_type": "code",
      "source": [
        "import re\n",
        "password = input('Enter a password: ').split(',')\n",
        "\n",
        "for i in password:\n",
        "    lst = []\n",
        "    let = re.search('[a-zA-Z]', i)\n",
        "    lst.append(let)\n",
        "    num = re.search('[0-9]', i)\n",
        "    lst.append(num)\n",
        "    char = re.search('[$#@]', i)\n",
        "    lst.append(char)\n",
        "    limit = re.search('^.{6,12}', i)\n",
        "    lst.append(limit)\n",
        "    if None not in lst:\n",
        "        print(i)"
      ],
      "metadata": {
        "colab": {
          "base_uri": "https://localhost:8080/"
        },
        "id": "g-UAuhcrQCwx",
        "outputId": "9b8a1178-ee57-4d07-88cf-3fa6c68a92cb"
      },
      "execution_count": 6,
      "outputs": [
        {
          "output_type": "stream",
          "name": "stdout",
          "text": [
            "Enter a password: ABd1234@1,a F1#,2w3E*,2We3345\n",
            "ABd1234@1\n"
          ]
        }
      ]
    }
  ]
}