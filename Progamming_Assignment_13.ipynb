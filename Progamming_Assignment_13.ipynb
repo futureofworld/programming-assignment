{
  "nbformat": 4,
  "nbformat_minor": 0,
  "metadata": {
    "colab": {
      "name": "Progamming_Assignment_13.ipynb",
      "provenance": [],
      "authorship_tag": "ABX9TyNOIgnmgzJ2eOZ5/Rqgc3im"
    },
    "kernelspec": {
      "name": "python3",
      "display_name": "Python 3"
    },
    "language_info": {
      "name": "python"
    }
  },
  "cells": [
    {
      "cell_type": "markdown",
      "source": [
        "Question 1:\n",
        "Write a program that calculates and prints the value according to the given formula:\n",
        "Q = Square root of [(2 * C * D)/H]\n",
        "Following are the fixed values of C and H:\n",
        "C is 50. H is 30.\n",
        "D is the variable whose values should be input to your program in a comma-separated\n",
        "sequence.\n",
        "Example\n",
        "Let us assume the following comma separated input sequence is given to the program:\n",
        "100,150,180\n",
        "The output of the program should be:\n",
        "18,22,24"
      ],
      "metadata": {
        "id": "-g9tjr63dzKu"
      }
    },
    {
      "cell_type": "code",
      "execution_count": 20,
      "metadata": {
        "colab": {
          "base_uri": "https://localhost:8080/"
        },
        "id": "WpJN85sbdyPe",
        "outputId": "73da42f6-9455-4a88-da62-58853f883f5a"
      },
      "outputs": [
        {
          "output_type": "stream",
          "name": "stdout",
          "text": [
            "Enter three numbers: 100,150,180\n",
            "[18, 22, 24]\n"
          ]
        }
      ],
      "source": [
        "import math\n",
        "c = 50\n",
        "h = 30\n",
        "D = input('Enter three numbers: ').split(',')\n",
        "d = list(map(int, D))\n",
        "out = []\n",
        "\n",
        "for i in d:\n",
        "    q = math.sqrt((2*c*i)/h)\n",
        "    out.append(round(q))\n",
        "print(out)"
      ]
    },
    {
      "cell_type": "markdown",
      "source": [
        "Question 2:\n",
        "Write a program which takes 2 digits, X,Y as input and generates a 2-dimensional array. The\n",
        "element value in the i-th row and j-th column of the array should be i*j.\n",
        "Note: i=0,1.., X-1; j=0,1,¡Y-1.\n",
        "Example\n",
        "Suppose the following inputs are given to the program:\n",
        "3,5\n",
        "Then, the output of the program should be:\n",
        "[[0, 0, 0, 0, 0], [0, 1, 2, 3, 4], [0, 2, 4, 6, 8]]"
      ],
      "metadata": {
        "id": "NKB3-9QYhS9y"
      }
    },
    {
      "cell_type": "code",
      "source": [
        "import numpy as np\n",
        "x = int(input('Enter number of row: '))\n",
        "y = int(input('Enter number of column: '))\n",
        "\n",
        "arr = np.empty([x,y])\n",
        "\n",
        "for i in range(x):\n",
        "    for j in range(y):\n",
        "        arr[i][j] = i*j\n",
        "\n",
        "print(arr)"
      ],
      "metadata": {
        "colab": {
          "base_uri": "https://localhost:8080/"
        },
        "id": "TEVQ497bhThr",
        "outputId": "3ced3771-6d1d-48f5-ed89-914992d55b01"
      },
      "execution_count": 21,
      "outputs": [
        {
          "output_type": "stream",
          "name": "stdout",
          "text": [
            "Enter number of row: 3\n",
            "Enter number of column: 5\n",
            "[[0. 0. 0. 0. 0.]\n",
            " [0. 1. 2. 3. 4.]\n",
            " [0. 2. 4. 6. 8.]]\n"
          ]
        }
      ]
    },
    {
      "cell_type": "markdown",
      "source": [
        "Question 3:\n",
        "Write a program that accepts a comma separated sequence of words as input and prints the\n",
        "words in a comma-separated sequence after sorting them alphabetically.\n",
        "Suppose the following input is supplied to the program:\n",
        "without,hello,bag,world\n",
        "Then, the output should be:\n",
        "bag,hello,without,world"
      ],
      "metadata": {
        "id": "WUr4KC9qimjU"
      }
    },
    {
      "cell_type": "code",
      "source": [
        "lst = input('Enter a comma seperated words: ').split(',')\n",
        "lst.sort()\n",
        "print('words after sorting alphabetically', ','.join(lst))"
      ],
      "metadata": {
        "colab": {
          "base_uri": "https://localhost:8080/"
        },
        "id": "waqfjWYiinAw",
        "outputId": "650e5646-8e64-4ca1-8fbb-4e44263b7eae"
      },
      "execution_count": 31,
      "outputs": [
        {
          "output_type": "stream",
          "name": "stdout",
          "text": [
            "Enter a comma seperated words: without,hello,bag,world\n",
            "words after sorting alphabetically bag,hello,without,world\n"
          ]
        }
      ]
    },
    {
      "cell_type": "markdown",
      "source": [
        "Question 4:\n",
        "Write a program that accepts a sequence of whitespace separated words as input and prints\n",
        "the words after removing all duplicate words and sorting them alphanumerically.\n",
        "Suppose the following input is supplied to the program:\n",
        "hello world and practice makes perfect and hello world again\n",
        "Then, the output should be:\n",
        "again and hello makes perfect practice world"
      ],
      "metadata": {
        "id": "RZbiqpOnj2Qg"
      }
    },
    {
      "cell_type": "code",
      "source": [
        "word = set(input('Enter a sentence: ').split())\n",
        "lst = list(word)\n",
        "lst.sort()\n",
        "print(' '.join(lst))"
      ],
      "metadata": {
        "colab": {
          "base_uri": "https://localhost:8080/"
        },
        "id": "TtWDmgwGj2-A",
        "outputId": "7c23dfe9-613e-4225-c30f-29195f5c26f8"
      },
      "execution_count": 30,
      "outputs": [
        {
          "output_type": "stream",
          "name": "stdout",
          "text": [
            "Enter a sentence: hello world and practice makes perfect and hello world again\n",
            "again and hello makes perfect practice world\n"
          ]
        }
      ]
    },
    {
      "cell_type": "markdown",
      "source": [
        "Question 5:\n",
        "Write a program that accepts a sentence and calculate the number of letters and digits.\n",
        "Suppose the following input is supplied to the program:\n",
        "hello world! 123\n",
        "Then, the output should be:\n",
        "LETTERS 10\n",
        "\n",
        "DIGITS 3"
      ],
      "metadata": {
        "id": "vFA0Twk8kvf3"
      }
    },
    {
      "cell_type": "code",
      "source": [
        "\n",
        "\n",
        "letAndDigit = input('Enter something: ')\n",
        "\n",
        "letter = 0\n",
        "digit = 0\n",
        "for i in letAndDigit:\n",
        "    try:\n",
        "        i = int(i)\n",
        "        digit += 1\n",
        "    except:\n",
        "        if i.isalpha():\n",
        "            letter += 1\n",
        "        \n",
        "print(f'LETTERS {letter}')\n",
        "print(f'DIGITS {digit}')"
      ],
      "metadata": {
        "colab": {
          "base_uri": "https://localhost:8080/"
        },
        "id": "tGrAbFtSkwBZ",
        "outputId": "dafa0342-b945-402e-b89e-13db91a22976"
      },
      "execution_count": 39,
      "outputs": [
        {
          "output_type": "stream",
          "name": "stdout",
          "text": [
            "Enter something: hello world! 123\n",
            "LETTERS 10\n",
            "DIGITS 3\n"
          ]
        }
      ]
    },
    {
      "cell_type": "markdown",
      "source": [
        "Question 6:\n",
        "A website requires the users to input username and password to register. Write a program to\n",
        "check the validity of password input by users.\n",
        "Following are the criteria for checking the password:\n",
        "1. At least 1 letter between [a-z]\n",
        "2. At least 1 number between [0-9]\n",
        "1. At least 1 letter between [A-Z]\n",
        "3. At least 1 character from [$#@]\n",
        "4. Minimum length of transaction password: 6\n",
        "5. Maximum length of transaction password: 12\n",
        "Your program should accept a sequence of comma separated passwords and will check them\n",
        "according to the above criteria. Passwords that match the criteria are to be printed, each\n",
        "separated by a comma.\n",
        "Example\n",
        "If the following passwords are given as input to the program:\n",
        "ABd1234@1,a F1#,2w3E*,2We3345\n",
        "Then, the output of the program should be:\n",
        "ABd1234@1"
      ],
      "metadata": {
        "id": "7PyVFK7BoLwD"
      }
    }
  ]
}