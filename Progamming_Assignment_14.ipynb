{
  "nbformat": 4,
  "nbformat_minor": 0,
  "metadata": {
    "colab": {
      "name": "Progamming_Assignment_14.ipynb",
      "provenance": [],
      "authorship_tag": "ABX9TyNPerNgjLm1jW1EfZp7Ud0b"
    },
    "kernelspec": {
      "name": "python3",
      "display_name": "Python 3"
    },
    "language_info": {
      "name": "python"
    }
  },
  "cells": [
    {
      "cell_type": "markdown",
      "source": [
        "# Question 1:\n",
        "# Define a class with a generator which can iterate the numbers, which are divisible by\n",
        "# 7, between a given range 0 and n."
      ],
      "metadata": {
        "id": "6rtnPVyY5dpO"
      }
    },
    {
      "cell_type": "code",
      "execution_count": 1,
      "metadata": {
        "colab": {
          "base_uri": "https://localhost:8080/"
        },
        "id": "KpQCdZ3U5ctO",
        "outputId": "8f5adf71-6513-4828-966d-9cbe2417f2b0"
      },
      "outputs": [
        {
          "output_type": "stream",
          "name": "stdout",
          "text": [
            "0\n",
            "7\n",
            "14\n"
          ]
        }
      ],
      "source": [
        "class Generator:\n",
        "    def __init__(self, start, end):\n",
        "        self.start = start\n",
        "        self.end = end\n",
        "        \n",
        "    def divisibleBy7(self):\n",
        "        for i in range(self.start, self.end):\n",
        "            if i%7 == 0:\n",
        "                yield i\n",
        "                i += 6\n",
        "\n",
        "gen = Generator(0,20)\n",
        "for seven in gen.divisibleBy7():\n",
        "    print(seven)"
      ]
    },
    {
      "cell_type": "markdown",
      "source": [
        "## Question 2:\n",
        "## Write a program to compute the frequency of the words from the input. The output\n",
        "## should output after sorting the key alphanumerically.\n",
        "## Suppose the following input is supplied to the program:\n",
        "## New to Python or choosing between Python 2 and Python 3? Read Python 2 or\n",
        "## Python 3.\n",
        "## Then, the output should be:\n",
        "## 2:2\n",
        "## 3.:1\n",
        "## 3?:1\n",
        "##New:1\n",
        "##Python:5\n",
        "##Read:1\n",
        "##and:1\n",
        "##between:1\n",
        "##choosing:1\n",
        "##or:2\n",
        "## to:1"
      ],
      "metadata": {
        "id": "D-cJT32aEY10"
      }
    },
    {
      "cell_type": "code",
      "source": [
        "sen = 'New to Python or choosing between Python 2 and Python 3? Read Python 2 or Python 3.'\n",
        "dic = dict()\n",
        "for i in sen.split():\n",
        "    if i not in dic:\n",
        "        dic[i] = 1\n",
        "    else:\n",
        "        dic[i] += 1\n",
        "\n",
        "for i in sorted(dic):\n",
        "    print(f'{i}:{dic[i]}')"
      ],
      "metadata": {
        "colab": {
          "base_uri": "https://localhost:8080/"
        },
        "id": "r0NJTHQDEtwl",
        "outputId": "8d2b9e72-e8ca-49c1-a755-dedae08e0376"
      },
      "execution_count": 2,
      "outputs": [
        {
          "output_type": "stream",
          "name": "stdout",
          "text": [
            "2:2\n",
            "3.:1\n",
            "3?:1\n",
            "New:1\n",
            "Python:5\n",
            "Read:1\n",
            "and:1\n",
            "between:1\n",
            "choosing:1\n",
            "or:2\n",
            "to:1\n"
          ]
        }
      ]
    },
    {
      "cell_type": "markdown",
      "source": [
        "# Question 3:\n",
        "\n",
        "# Define a class Person and its two child classes: Male and Female. All classes have a\n",
        "# method &quot;getGender&quot; which can print &quot;Male&quot; for Male class and &quot;Female&quot; for Female\n",
        "# class."
      ],
      "metadata": {
        "id": "Y2eT507_GdEK"
      }
    },
    {
      "cell_type": "code",
      "source": [
        "class Person:\n",
        "    def getGender(self):\n",
        "        print('Either Male of Female')\n",
        "\n",
        "class Male(Person):\n",
        "    def getGender(self):\n",
        "        print('Male')\n",
        "\n",
        "class Female(Person):\n",
        "    def getGender(self):\n",
        "        print('Female')\n",
        "\n",
        "male = Male()\n",
        "male.getGender()\n",
        "\n",
        "female = Female()\n",
        "female.getGender()"
      ],
      "metadata": {
        "colab": {
          "base_uri": "https://localhost:8080/"
        },
        "id": "AEs_EmEBGfsy",
        "outputId": "bc4f73be-73dd-4eae-9931-795d2e2424d3"
      },
      "execution_count": 3,
      "outputs": [
        {
          "output_type": "stream",
          "name": "stdout",
          "text": [
            "Male\n",
            "Female\n"
          ]
        }
      ]
    },
    {
      "cell_type": "markdown",
      "source": [
        "# Question 4:\n",
        "# Please write a program to generate all sentences where subject is in [&quot;I&quot;, &quot;You&quot;] and\n",
        "# verb is in [&quot;Play&quot;, &quot;Love&quot;] and the object is in [&quot;Hockey&quot;,&quot;Football&quot;]."
      ],
      "metadata": {
        "id": "iwNK-hw4Iazh"
      }
    },
    {
      "cell_type": "code",
      "source": [
        "subject = [\"I\", \"You\"]\n",
        "verb = [\"Play\", \"Love\"]\n",
        "obj = [\"Hockey\",\"Football\"]\n",
        "\n",
        "for i in subject:\n",
        "    for j in verb:\n",
        "        for k in obj:\n",
        "            print(f'{i} {j} {k}')"
      ],
      "metadata": {
        "colab": {
          "base_uri": "https://localhost:8080/"
        },
        "id": "yjoE62y4Ic2Y",
        "outputId": "b1f17840-3c2b-4713-c2d7-31cb2b66e521"
      },
      "execution_count": 4,
      "outputs": [
        {
          "output_type": "stream",
          "name": "stdout",
          "text": [
            "I Play Hockey\n",
            "I Play Football\n",
            "I Love Hockey\n",
            "I Love Football\n",
            "You Play Hockey\n",
            "You Play Football\n",
            "You Love Hockey\n",
            "You Love Football\n"
          ]
        }
      ]
    },
    {
      "cell_type": "markdown",
      "source": [
        "# Question 5:\n",
        "# Please write a program to compress and decompress the string &quot;hello world!hello\n",
        "# world!hello world!hello world!&quot;."
      ],
      "metadata": {
        "id": "EYtzvVs6JC_I"
      }
    },
    {
      "cell_type": "code",
      "source": [
        "import gzip\n",
        "s = b\"hello world!hello world!hello world!hello world!\"\n",
        "s = gzip.compress(s)\n",
        "print(s)\n",
        "d = gzip.decompress(s)\n",
        "print(d)"
      ],
      "metadata": {
        "colab": {
          "base_uri": "https://localhost:8080/"
        },
        "id": "hI11KP-iJEv_",
        "outputId": "503b7f77-08b4-45bc-c85b-a80ff23d8d69"
      },
      "execution_count": 5,
      "outputs": [
        {
          "output_type": "stream",
          "name": "stdout",
          "text": [
            "b'\\x1f\\x8b\\x08\\x00\\x86)\\xa4b\\x02\\xff\\xcbH\\xcd\\xc9\\xc9W(\\xcf/\\xcaIQ\\xcc \\x82\\r\\x00\\xd3\\xe6\\xcf\\xae0\\x00\\x00\\x00'\n",
            "b'hello world!hello world!hello world!hello world!'\n"
          ]
        }
      ]
    },
    {
      "cell_type": "markdown",
      "source": [
        "# Question 6:\n",
        "# Please write a binary search function which searches an item in a sorted list. The\n",
        "# function should return the index of element to be searched in the list."
      ],
      "metadata": {
        "id": "KigTDPboK-Te"
      }
    },
    {
      "cell_type": "code",
      "source": [
        "lst = [5,3,7,32,58,62,4,65,8,6]\n",
        "lst = sorted(lst)\n",
        "\n",
        "print(f'Sorted list is {lst}')\n",
        "\n",
        "def binarySearch(lst, key):\n",
        "    start = 0\n",
        "    end = len(lst)\n",
        "    while start<=end:\n",
        "        mid = round((start+end)/2)\n",
        "        if lst[mid] == key:\n",
        "            return mid\n",
        "        elif lst[mid] > key:\n",
        "            end = mid-1\n",
        "        else:\n",
        "            start = mid+1\n",
        "\n",
        "    return -1\n",
        "\n",
        "key = 62\n",
        "print(f'{key} is at position {binarySearch(lst, key)} in {lst}')"
      ],
      "metadata": {
        "colab": {
          "base_uri": "https://localhost:8080/"
        },
        "id": "cFld8uIhLF8W",
        "outputId": "f9624bdd-7b0f-40c6-cea7-8909ac8be82a"
      },
      "execution_count": 6,
      "outputs": [
        {
          "output_type": "stream",
          "name": "stdout",
          "text": [
            "Sorted list is [3, 4, 5, 6, 7, 8, 32, 58, 62, 65]\n",
            "62 is at position 8 in [3, 4, 5, 6, 7, 8, 32, 58, 62, 65]\n"
          ]
        }
      ]
    }
  ]
}