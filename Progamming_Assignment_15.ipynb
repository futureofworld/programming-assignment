{
  "nbformat": 4,
  "nbformat_minor": 0,
  "metadata": {
    "colab": {
      "name": "Progamming_Assignment_15.ipynb",
      "provenance": [],
      "authorship_tag": "ABX9TyPvJsW76YGb6j1cyVzVTqBv"
    },
    "kernelspec": {
      "name": "python3",
      "display_name": "Python 3"
    },
    "language_info": {
      "name": "python"
    }
  },
  "cells": [
    {
      "cell_type": "markdown",
      "source": [
        "Question 1:\n",
        "\n",
        "Please write a program using generator to print the numbers which can be divisible by 5 and\n",
        "\n",
        "7 between 0 and n in comma separated form while n is input by console.\n",
        "Example:\n",
        "\n",
        "If the following n is given as input to the program:\n",
        "100\n",
        "\n",
        "Then, the output of the program should be:\n",
        "0,35,70"
      ],
      "metadata": {
        "id": "KuYdQU2PQ57q"
      }
    },
    {
      "cell_type": "code",
      "execution_count": 1,
      "metadata": {
        "colab": {
          "base_uri": "https://localhost:8080/"
        },
        "id": "63oeyY8iQz21",
        "outputId": "6790a103-2bc8-4978-80e9-9378192a269c"
      },
      "outputs": [
        {
          "output_type": "stream",
          "name": "stdout",
          "text": [
            "Enter a number: 100\n",
            "0,35,70,"
          ]
        }
      ],
      "source": [
        "def generator(start, end):\n",
        "    for i in range(start, end):\n",
        "        if i%5 == 0 and i%7 == 0:\n",
        "            yield i\n",
        "\n",
        "n = int(input('Enter a number: '))\n",
        "for i in generator(0, n):\n",
        "    print(f'{i},',end=\"\")"
      ]
    },
    {
      "cell_type": "markdown",
      "source": [
        "Question 2:\n",
        "\n",
        "Please write a program using generator to print the even numbers between 0 and n in comma\n",
        "\n",
        "separated form while n is input by console.\n",
        "Example:\n",
        "\n",
        "If the following n is given as input to the program:\n",
        "10\n",
        "\n",
        "Then, the output of the program should be:\n",
        "0,2,4,6,8,10"
      ],
      "metadata": {
        "id": "iPIE8oXjR5UJ"
      }
    },
    {
      "cell_type": "code",
      "source": [
        "def generator(start, end):\n",
        "    for i in range(start,end+1):\n",
        "        if(i%2==0):\n",
        "            yield i\n",
        "\n",
        "n = int(input('Enter a number: '))\n",
        "for i in generator(0,n):\n",
        "    print(f'{i}',end=',')"
      ],
      "metadata": {
        "colab": {
          "base_uri": "https://localhost:8080/"
        },
        "id": "3MUoZdt2R-Jg",
        "outputId": "54436cd1-73e1-477a-f69f-379beee9cfff"
      },
      "execution_count": 2,
      "outputs": [
        {
          "output_type": "stream",
          "name": "stdout",
          "text": [
            "Enter a number: 10\n",
            "0,2,4,6,8,10,"
          ]
        }
      ]
    },
    {
      "cell_type": "markdown",
      "source": [
        "Question 3:\n",
        "\n",
        "The Fibonacci Sequence is computed based on the following formula:\n",
        "f(n)=0 if n=0\n",
        "f(n)=1 if n=1\n",
        "f(n)=f(n-1)+f(n-2) if n&gt;1\n",
        "\n",
        "Please write a program using list comprehension to print the Fibonacci Sequence in comma\n",
        "\n",
        "separated form with a given n input by console.\n",
        "Example:\n",
        "\n",
        "If the following n is given as input to the program:\n",
        "7\n",
        "\n",
        "Then, the output of the program should be:\n",
        "0,1,1,2,3,5,8,13"
      ],
      "metadata": {
        "id": "7hVqFhp_Sp34"
      }
    },
    {
      "cell_type": "code",
      "source": [
        "n = int(input('Enter a number: '))\n",
        "lst = [0,1]\n",
        "[lst.append(lst[-2]+lst[-1]) for n in range(n-1)]\n",
        "print(lst)"
      ],
      "metadata": {
        "colab": {
          "base_uri": "https://localhost:8080/"
        },
        "id": "7PNHyImpStOP",
        "outputId": "a356d77e-7823-42d7-a4b1-84c0d08e3042"
      },
      "execution_count": 3,
      "outputs": [
        {
          "output_type": "stream",
          "name": "stdout",
          "text": [
            "Enter a number: 7\n",
            "[0, 1, 1, 2, 3, 5, 8, 13]\n"
          ]
        }
      ]
    },
    {
      "cell_type": "markdown",
      "source": [
        "Question 4:\n",
        "\n",
        "Assuming that we have some email addresses in the &quot;username@companyname.com&quot; format,\n",
        "\n",
        "please write program to print the user name of a given email address. Both user names and\n",
        "\n",
        "company names are composed of letters only.\n",
        "Example:\n",
        "\n",
        "If the following email address is given as input to the program:\n",
        "john@google.com\n",
        "\n",
        "Then, the output of the program should be:\n",
        "john"
      ],
      "metadata": {
        "id": "33k-MUDkVnG9"
      }
    },
    {
      "cell_type": "code",
      "source": [
        "username, company_name = input('Enter your email address: ').split('@')\n",
        "print(username)"
      ],
      "metadata": {
        "colab": {
          "base_uri": "https://localhost:8080/"
        },
        "id": "EpxjZG-rVpyt",
        "outputId": "5a3c7da0-70ec-4bbd-e230-21e1f189cfec"
      },
      "execution_count": 4,
      "outputs": [
        {
          "output_type": "stream",
          "name": "stdout",
          "text": [
            "Enter your email address: john@google.com\n",
            "john\n"
          ]
        }
      ]
    },
    {
      "cell_type": "markdown",
      "source": [
        "Question 5:\n",
        "\n",
        "Define a class named Shape and its subclass Square. The Square class has an init function\n",
        "\n",
        "which takes a length as argument. Both classes have a area function which can print the area\n",
        "\n",
        "of the shape where Shape&#39;s area is 0 by default."
      ],
      "metadata": {
        "id": "anQuTPOTWLZ8"
      }
    },
    {
      "cell_type": "code",
      "source": [
        "class Shape:\n",
        "    def area(self):\n",
        "        self.area = 0\n",
        "        print(self.area)\n",
        "\n",
        "class Square(Shape):\n",
        "    def __init__(self, side):\n",
        "        self.side = side\n",
        "\n",
        "    def area(self):\n",
        "        print(self.side**2)\n",
        "\n",
        "shape = Shape()\n",
        "shape.area()\n",
        "\n",
        "square = Square(2)\n",
        "square.area()"
      ],
      "metadata": {
        "colab": {
          "base_uri": "https://localhost:8080/"
        },
        "id": "bIs90ur-WM_F",
        "outputId": "531c054e-4a27-4386-8629-8de1a75df189"
      },
      "execution_count": 5,
      "outputs": [
        {
          "output_type": "stream",
          "name": "stdout",
          "text": [
            "0\n",
            "4\n"
          ]
        }
      ]
    }
  ]
}