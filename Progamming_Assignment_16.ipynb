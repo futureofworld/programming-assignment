{
  "nbformat": 4,
  "nbformat_minor": 0,
  "metadata": {
    "colab": {
      "name": "Progamming_Assignment_16.ipynb",
      "provenance": [],
      "authorship_tag": "ABX9TyMeMlAIOopbCSmDtiSnR3GM"
    },
    "kernelspec": {
      "name": "python3",
      "display_name": "Python 3"
    },
    "language_info": {
      "name": "python"
    }
  },
  "cells": [
    {
      "cell_type": "markdown",
      "source": [
        "Question1. Write a function that stutters a word as if someone is struggling to read it. The\n",
        "first two letters are repeated twice with an ellipsis ... and space after each, and then the\n",
        "word is pronounced with a question mark ?.\n",
        "\n",
        "Examples\n",
        "\n",
        "stutter(&quot;incredible&quot;) ➞ &quot;in... in... incredible?&quot;\n",
        "\n",
        "stutter(&quot;enthusiastic&quot;) ➞ &quot;en... en... enthusiastic?&quot;\n",
        "\n",
        "stutter(&quot;outstanding&quot;) ➞ &quot;ou... ou... outstanding?&quot;\n",
        "\n",
        "Hint :- Assume all input is in lower case and at least two characters long."
      ],
      "metadata": {
        "id": "NtRyRjZEnXxU"
      }
    },
    {
      "cell_type": "code",
      "execution_count": 3,
      "metadata": {
        "colab": {
          "base_uri": "https://localhost:8080/"
        },
        "id": "2f0b0jGgnSqh",
        "outputId": "19755f07-d8ac-4caa-8bad-3aa05e83c658"
      },
      "outputs": [
        {
          "output_type": "stream",
          "name": "stdout",
          "text": [
            "in... in... incredible?\n",
            "en... en... enthusiastic?\n",
            "ou... ou... outstanding?\n"
          ]
        }
      ],
      "source": [
        "def stutters(word):\n",
        "    i = 0\n",
        "    for j in range(2):\n",
        "        print(f'{word[i]}{word[i+1]}...', end=' ')\n",
        "    print(word+'?')\n",
        "\n",
        "stutters('incredible')\n",
        "stutters('enthusiastic')\n",
        "stutters('outstanding')"
      ]
    },
    {
      "cell_type": "markdown",
      "source": [
        "Question 2.\n",
        "Create a function that takes an angle in radians and returns the corresponding\n",
        "angle in degrees rounded to one decimal place.\n",
        "\n",
        "Examples\n",
        "\n",
        "radians_to_degrees(1) ➞ 57.3\n",
        "\n",
        "radians_to_degrees(20) ➞ 1145.9\n",
        "\n",
        "radians_to_degrees(50) ➞ 2864.8"
      ],
      "metadata": {
        "id": "qN6t0WpCokZ5"
      }
    },
    {
      "cell_type": "code",
      "source": [
        "import math\n",
        "def radians_to_degrees(radian):\n",
        "    print(f'{radian*(180/math.pi):.1f}')\n",
        "\n",
        "radians_to_degrees(1)\n",
        "radians_to_degrees(20)\n",
        "radians_to_degrees(50)"
      ],
      "metadata": {
        "colab": {
          "base_uri": "https://localhost:8080/"
        },
        "id": "7kIMH7xuoogx",
        "outputId": "f5529ac0-94c6-4c88-d1ac-3beb24ebb41f"
      },
      "execution_count": 8,
      "outputs": [
        {
          "output_type": "stream",
          "name": "stdout",
          "text": [
            "57.3\n",
            "1145.9\n",
            "2864.8\n"
          ]
        }
      ]
    },
    {
      "cell_type": "markdown",
      "source": [
        "Question 3. \n",
        "\n",
        "In this challenge, establish if a given integer num is a Curzon number. If 1 plus\n",
        "2 elevated to num is exactly divisible by 1 plus 2 multiplied by num, then num is a Curzon\n",
        "number.\n",
        "Given a non-negative integer num, implement a function that returns True if num is a Curzon\n",
        "number, or False otherwise.\n",
        "Examples\n",
        "is_curzon(5) ➞ True\n",
        "# 2 ** 5 + 1 = 33\n",
        "# 2 * 5 + 1 = 11\n",
        "# 33 is a multiple of 11\n",
        "is_curzon(10) ➞ False\n",
        "# 2 ** 10 + 1 = 1025\n",
        "# 2 * 10 + 1 = 21\n",
        "# 1025 is not a multiple of 21\n",
        "is_curzon(14) ➞ True\n",
        "# 2 ** 14 + 1 = 16385\n",
        "# 2 * 14 + 1 = 29\n",
        "# 16385 is a multiple of 29"
      ],
      "metadata": {
        "id": "Z_jdfXt8qMsf"
      }
    },
    {
      "cell_type": "code",
      "source": [
        "def is_curzon(num):\n",
        "    if (2**num + 1)%(2*5 + 1) == 0:\n",
        "        print('True')\n",
        "        print(f'2 ** {num} + 1 = {2**num + 1}')\n",
        "        print(f'2 * {num} + 1 = {2*num + 1}')\n",
        "        print(f'{2**num + 1} is a multiple of {2*num + 1}')\n",
        "    else:\n",
        "        print('False')\n",
        "        print(f'2 ** {num} + 1 = {2**num + 1}')\n",
        "        print(f'2 * {num} + 1 = {2*num + 1}')\n",
        "        print(f'{2**num + 1} is a not multiple of {2*num + 1}')\n",
        "\n",
        "is_curzon(5)\n",
        "print('')\n",
        "is_curzon(10)\n",
        "print('')\n",
        "is_curzon(14)"
      ],
      "metadata": {
        "colab": {
          "base_uri": "https://localhost:8080/"
        },
        "id": "Ns058S5yqa-_",
        "outputId": "c1f7d026-2692-42f5-e344-22b158b4c6e3"
      },
      "execution_count": 11,
      "outputs": [
        {
          "output_type": "stream",
          "name": "stdout",
          "text": [
            "True\n",
            "2 ** 5 + 1 = 33\n",
            "2 * 5 + 1 = 11\n",
            "33 is a multiple of 11\n",
            "\n",
            "False\n",
            "2 ** 10 + 1 = 1025\n",
            "2 * 10 + 1 = 21\n",
            "1025 is a not multiple of 21\n",
            "\n",
            "False\n",
            "2 ** 14 + 1 = 16385\n",
            "2 * 14 + 1 = 29\n",
            "16385 is a not multiple of 29\n"
          ]
        }
      ]
    },
    {
      "cell_type": "markdown",
      "source": [
        "Question 4.Given the side length x find the area of a hexagon.\n",
        "\n",
        "Examples\n",
        "area_of_hexagon(1) ➞ 2.6\n",
        "\n",
        "area_of_hexagon(2) ➞ 10.4\n",
        "\n",
        "area_of_hexagon(3) ➞ 23.4\n",
        "\n"
      ],
      "metadata": {
        "id": "N9CYu7BxsGzF"
      }
    },
    {
      "cell_type": "code",
      "source": [
        "import math\n",
        "def area_of_hexagon(side):\n",
        "    return (3*math.sqrt(3)*(side**2))/2\n",
        "\n",
        "print(f'{area_of_hexagon(1):.1f}')\n",
        "print(f'{area_of_hexagon(2):.1f}')\n",
        "print(f'{area_of_hexagon(3):.1f}')"
      ],
      "metadata": {
        "colab": {
          "base_uri": "https://localhost:8080/"
        },
        "id": "QnYusRIoqPi3",
        "outputId": "0558b687-2ccd-4501-c076-8fb6fbc22f03"
      },
      "execution_count": 16,
      "outputs": [
        {
          "output_type": "stream",
          "name": "stdout",
          "text": [
            "2.6\n",
            "10.4\n",
            "23.4\n"
          ]
        }
      ]
    },
    {
      "cell_type": "markdown",
      "source": [
        "\n",
        "Question 5. \n",
        "\n",
        "Create a function that returns a base-2 (binary) representation of a base-10\n",
        "(decimal) string number. To convert is simple: ((2) means base-2 and (10) means base-10)\n",
        "010101001(2) = 1 + 8 + 32 + 128.\n",
        "Going from right to left, the value of the most right bit is 1, now from that every bit to the left\n",
        "will be x2 the value, value of an 8 bit binary numbers are (256, 128, 64, 32, 16, 8, 4, 2, 1).\n",
        "\n",
        "Examples\n",
        "\n",
        "binary(1) ➞ &quot;1&quot;\n",
        "# 1*1 = 1\n",
        "binary(5) ➞ &quot;101&quot;\n",
        "# 1*1 + 1*4 = 5\n",
        "binary(10) ➞ &quot;1010&quot;\n",
        "# 1*2 + 1*8 = 10"
      ],
      "metadata": {
        "id": "WZrONAuFsTn1"
      }
    },
    {
      "cell_type": "code",
      "source": [
        "def binary(num):\n",
        "    lst = []\n",
        "    i = 0\n",
        "    while(num>0):\n",
        "        lst.append(num%2)\n",
        "        num = num//2\n",
        "        i+=1\n",
        "    \n",
        "    for i in range(0, len(lst)):\n",
        "        print(lst[-(i+1)], end='')\n",
        "\n",
        "    print('')\n",
        "\n",
        "binary(1)\n",
        "binary(5)\n",
        "binary(10)"
      ],
      "metadata": {
        "colab": {
          "base_uri": "https://localhost:8080/"
        },
        "id": "4yCWy3zIvntb",
        "outputId": "82f95828-7604-41b6-cda6-c2804c4df24c"
      },
      "execution_count": 40,
      "outputs": [
        {
          "output_type": "stream",
          "name": "stdout",
          "text": [
            "1\n",
            "101\n",
            "1010\n"
          ]
        }
      ]
    }
  ]
}