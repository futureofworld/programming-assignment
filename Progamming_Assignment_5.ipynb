{
  "nbformat": 4,
  "nbformat_minor": 0,
  "metadata": {
    "colab": {
      "name": "Progamming_Assignment_5.ipynb",
      "provenance": [],
      "collapsed_sections": [],
      "authorship_tag": "ABX9TyNgk3alr0TlY977/Q1Kq5sd"
    },
    "kernelspec": {
      "name": "python3",
      "display_name": "Python 3"
    },
    "language_info": {
      "name": "python"
    }
  },
  "cells": [
    {
      "cell_type": "markdown",
      "source": [
        "Q1. Write a Python Program to Find LCM?"
      ],
      "metadata": {
        "id": "L-b0qASnSqw0"
      }
    },
    {
      "cell_type": "code",
      "execution_count": 1,
      "metadata": {
        "colab": {
          "base_uri": "https://localhost:8080/"
        },
        "id": "bEEywkD4Sd55",
        "outputId": "a2919ff3-7325-4567-9d75-0cb42caa8793"
      },
      "outputs": [
        {
          "output_type": "stream",
          "name": "stdout",
          "text": [
            "216\n"
          ]
        }
      ],
      "source": [
        "def lcm(x, y):\n",
        "    if x > y:\n",
        "        large = x\n",
        "    else:\n",
        "        large = y\n",
        "\n",
        "    while(True):\n",
        "        if((large % x == 0) and (large % y == 0)):\n",
        "            lcm = large\n",
        "            break\n",
        "        large += 1\n",
        "    print(lcm)\n",
        "\n",
        "lcm(54, 24)"
      ]
    },
    {
      "cell_type": "markdown",
      "source": [
        "Q2. Write a Python Program to Find HCF?"
      ],
      "metadata": {
        "id": "VA0Jxcv2Svme"
      }
    },
    {
      "cell_type": "code",
      "source": [
        "def hcf(num1, num2):\n",
        "    if num1>num2:\n",
        "        large = num1\n",
        "        small = num2\n",
        "    else:\n",
        "        large = num2\n",
        "        small = num1\n",
        "    while(large%small != 0):\n",
        "        temp = small\n",
        "        small = large%small\n",
        "        large = temp\n",
        "    print(small)\n",
        "\n",
        "hcf(48, 18)"
      ],
      "metadata": {
        "colab": {
          "base_uri": "https://localhost:8080/"
        },
        "id": "nBgLv-t-S_DK",
        "outputId": "2660ea3f-b9fc-4461-94fa-78df6cac435f"
      },
      "execution_count": 2,
      "outputs": [
        {
          "output_type": "stream",
          "name": "stdout",
          "text": [
            "6\n"
          ]
        }
      ]
    },
    {
      "cell_type": "markdown",
      "source": [
        "Q3. Write a Python Program to Convert Decimal to Binary, Octal and Hexadecimal?"
      ],
      "metadata": {
        "id": "d24Z5BinUiah"
      }
    },
    {
      "cell_type": "code",
      "source": [
        "def dec_to_bin(num):\n",
        "    dec = ''\n",
        "    while num/2 > 0:\n",
        "        dec += str(num%2)\n",
        "        num = num//2\n",
        "    print(dec[::-1])\n",
        "\n",
        "def dec_to_oct(num):\n",
        "    oct = ''\n",
        "    while num/8 > 0:\n",
        "        oct += str(num%8)\n",
        "        num = num//8\n",
        "    print(oct[::-1])\n",
        "\n",
        "def dec_to_hex(num):\n",
        "    conversion_table = {0: '0', 1: '1', 2: '2', 3: '3', 4: '4',\n",
        "                    5: '5', 6: '6', 7: '7',\n",
        "                    8: '8', 9: '9', 10: 'A', 11: 'B', 12: 'C',\n",
        "                    13: 'D', 14: 'E', 15: 'F'}\n",
        "    hex = ''\n",
        "    while(num > 0):\n",
        "        rem = num % 16\n",
        "        hex = conversion_table[rem] + hex\n",
        "        num = num // 16\n",
        "    print(hex)\n",
        "\n",
        "dec_to_bin(10)\n",
        "dec_to_oct(158)\n",
        "dec_to_hex(69)"
      ],
      "metadata": {
        "colab": {
          "base_uri": "https://localhost:8080/"
        },
        "id": "gffo0ktqWCpP",
        "outputId": "3b9087cc-3e93-44fe-c87b-b4a43e728549"
      },
      "execution_count": 3,
      "outputs": [
        {
          "output_type": "stream",
          "name": "stdout",
          "text": [
            "1010\n",
            "236\n",
            "45\n"
          ]
        }
      ]
    },
    {
      "cell_type": "markdown",
      "source": [
        "Q4. Write a Python Program To Find ASCII value of a character?"
      ],
      "metadata": {
        "id": "49DhJSN8UlKI"
      }
    },
    {
      "cell_type": "code",
      "source": [
        "def convert_to_ascii(ascii):\n",
        "    print(ord(ascii))\n",
        "\n",
        "convert_to_ascii('a')"
      ],
      "metadata": {
        "colab": {
          "base_uri": "https://localhost:8080/"
        },
        "id": "Jo0p8EIhUolY",
        "outputId": "191b8f08-a638-4106-b9ed-7df88ce52c22"
      },
      "execution_count": 4,
      "outputs": [
        {
          "output_type": "stream",
          "name": "stdout",
          "text": [
            "97\n"
          ]
        }
      ]
    },
    {
      "cell_type": "markdown",
      "source": [
        "Q5. Write a Python Program to Make a Simple Calculator with 4 basic mathematical operations?"
      ],
      "metadata": {
        "id": "cUsU21OWU1Gf"
      }
    },
    {
      "cell_type": "code",
      "source": [
        "def calculator():\n",
        "    operator = input(\"press '+' for addition\\npress '-' for subtraction\\npress '*' for multiplication\\npress '/' for division\\n\")\n",
        "    num1 = int(input('Enter 1st number: '))\n",
        "    num2 = int(input('Enter 2nd number: '))\n",
        "    if operator == '+':\n",
        "        print(num1+num2)\n",
        "    elif operator == '-':\n",
        "        print(num1-num2)\n",
        "    elif operator == '*':\n",
        "        print(num1*num2)\n",
        "    elif operator == '/':\n",
        "        print(num1/num2)\n",
        "\n",
        "calculator()"
      ],
      "metadata": {
        "colab": {
          "base_uri": "https://localhost:8080/"
        },
        "id": "oNeXtXrJU2dQ",
        "outputId": "5b253346-8b1e-40cd-ac6f-c57afcfa3068"
      },
      "execution_count": 5,
      "outputs": [
        {
          "output_type": "stream",
          "name": "stdout",
          "text": [
            "press '+' for addition\n",
            "press '-' for subtraction\n",
            "press '*' for multiplication\n",
            "press '/' for division\n",
            "+\n",
            "Enter 1st number: 5\n",
            "Enter 2nd number: 10\n",
            "15\n"
          ]
        }
      ]
    }
  ]
}