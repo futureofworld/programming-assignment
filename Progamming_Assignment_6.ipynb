{
  "nbformat": 4,
  "nbformat_minor": 0,
  "metadata": {
    "colab": {
      "name": "Progamming_Assignment_6.ipynb",
      "provenance": [],
      "collapsed_sections": [],
      "authorship_tag": "ABX9TyOMmi+jlhve8tGB8Yku0Hzw"
    },
    "kernelspec": {
      "name": "python3",
      "display_name": "Python 3"
    },
    "language_info": {
      "name": "python"
    }
  },
  "cells": [
    {
      "cell_type": "markdown",
      "source": [
        "1. Write a Python Program to Display Fibonacci Sequence Using Recursion?"
      ],
      "metadata": {
        "id": "nu4_4rYIPoBg"
      }
    },
    {
      "cell_type": "code",
      "execution_count": 1,
      "metadata": {
        "colab": {
          "base_uri": "https://localhost:8080/"
        },
        "id": "z8uKF-jXPnB_",
        "outputId": "62c484b1-12e3-458e-827b-1cd286238c71"
      },
      "outputs": [
        {
          "output_type": "stream",
          "name": "stdout",
          "text": [
            "0\n",
            "1\n",
            "1\n",
            "2\n",
            "3\n",
            "5\n",
            "8\n",
            "13\n",
            "21\n",
            "34\n",
            "55\n",
            "89\n"
          ]
        }
      ],
      "source": [
        "def fib(first, second):\n",
        "    if(second>=100):\n",
        "        return\n",
        "    if(first == 0):\n",
        "        print(first)\n",
        "    print(second)\n",
        "    temp = first\n",
        "    first = second\n",
        "    second = temp + first\n",
        "    fib(first, second)\n",
        "\n",
        "fib(0,1)"
      ]
    },
    {
      "cell_type": "markdown",
      "source": [
        "2. Write a Python Program to Find Factorial of Number Using Recursion?"
      ],
      "metadata": {
        "id": "14oXyx_5Qg4H"
      }
    },
    {
      "cell_type": "code",
      "source": [
        "def factorial(num):\n",
        "    if(num == 1):\n",
        "        return 1\n",
        "    return num * factorial(num-1)\n",
        "\n",
        "print(factorial(5))"
      ],
      "metadata": {
        "colab": {
          "base_uri": "https://localhost:8080/"
        },
        "id": "qbwui99uQhpP",
        "outputId": "1dd83dac-ef7f-401e-d8c9-3fc2344586e9"
      },
      "execution_count": 2,
      "outputs": [
        {
          "output_type": "stream",
          "name": "stdout",
          "text": [
            "120\n"
          ]
        }
      ]
    },
    {
      "cell_type": "markdown",
      "source": [
        "3. Write a Python Program to calculate your Body Mass Index?"
      ],
      "metadata": {
        "id": "KZLYRWBvQzll"
      }
    },
    {
      "cell_type": "code",
      "source": [
        "weight = 60\n",
        "height = 1.52\n",
        "\n",
        "bmi = weight/(height**2)\n",
        "print(bmi)"
      ],
      "metadata": {
        "colab": {
          "base_uri": "https://localhost:8080/"
        },
        "id": "rOiz7DInQwfO",
        "outputId": "3db9d4ef-d4c5-4fa7-80a3-40a3d81f7989"
      },
      "execution_count": 3,
      "outputs": [
        {
          "output_type": "stream",
          "name": "stdout",
          "text": [
            "25.969529085872576\n"
          ]
        }
      ]
    },
    {
      "cell_type": "markdown",
      "source": [
        "4. Write a Python Program to calculate the natural logarithm of any number?"
      ],
      "metadata": {
        "id": "UUTLBVtzRJwW"
      }
    },
    {
      "cell_type": "code",
      "source": [
        "import math\n",
        "num = 2\n",
        "print(math.log(num))"
      ],
      "metadata": {
        "colab": {
          "base_uri": "https://localhost:8080/"
        },
        "id": "4357DCbkRKZd",
        "outputId": "9f53ea0e-dbda-4028-c40a-b8f3a92eb1c0"
      },
      "execution_count": 4,
      "outputs": [
        {
          "output_type": "stream",
          "name": "stdout",
          "text": [
            "0.6931471805599453\n"
          ]
        }
      ]
    },
    {
      "cell_type": "markdown",
      "source": [
        "5. Write a Python Program for cube sum of first n natural numbers?"
      ],
      "metadata": {
        "id": "xtwzFYiMRsGs"
      }
    },
    {
      "cell_type": "code",
      "source": [
        "num = 10\n",
        "sum = 0\n",
        "for i in range(num):\n",
        "    sum += (i+1)**3\n",
        "\n",
        "print(sum)"
      ],
      "metadata": {
        "colab": {
          "base_uri": "https://localhost:8080/"
        },
        "id": "AQgathXHRs1M",
        "outputId": "7bfd8b3c-a526-4723-ae04-ad3da92b2aa0"
      },
      "execution_count": 5,
      "outputs": [
        {
          "output_type": "stream",
          "name": "stdout",
          "text": [
            "3025\n"
          ]
        }
      ]
    }
  ]
}