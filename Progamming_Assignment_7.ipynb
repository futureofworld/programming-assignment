{
  "nbformat": 4,
  "nbformat_minor": 0,
  "metadata": {
    "colab": {
      "name": "Progamming_Assignment_7.ipynb",
      "provenance": [],
      "authorship_tag": "ABX9TyNZWJeWKUPrWYhFN752pKSl"
    },
    "kernelspec": {
      "name": "python3",
      "display_name": "Python 3"
    },
    "language_info": {
      "name": "python"
    }
  },
  "cells": [
    {
      "cell_type": "markdown",
      "source": [
        "Q1. Write a Python Program to find sum of array?"
      ],
      "metadata": {
        "id": "EcWG1rGMe472"
      }
    },
    {
      "cell_type": "code",
      "execution_count": 1,
      "metadata": {
        "colab": {
          "base_uri": "https://localhost:8080/"
        },
        "id": "gEG3mbv-dlH7",
        "outputId": "02e22ad0-33ad-44c3-af76-becc007bf76b"
      },
      "outputs": [
        {
          "output_type": "stream",
          "name": "stdout",
          "text": [
            "21\n"
          ]
        }
      ],
      "source": [
        "import numpy as np\n",
        "arr = np.array([1,2,3,4,5,6])\n",
        "print(sum(arr))"
      ]
    },
    {
      "cell_type": "markdown",
      "source": [
        "Q2. Write a Python Program to find largest element in an array?"
      ],
      "metadata": {
        "id": "DaCUqfade3z_"
      }
    },
    {
      "cell_type": "code",
      "source": [
        "arr = np.array([1,2,3,4,5,6])\n",
        "print(max(arr))"
      ],
      "metadata": {
        "colab": {
          "base_uri": "https://localhost:8080/"
        },
        "id": "cgJK5i45e70N",
        "outputId": "a3ab296a-3ecc-43ec-cd06-9bb4e1405f82"
      },
      "execution_count": 2,
      "outputs": [
        {
          "output_type": "stream",
          "name": "stdout",
          "text": [
            "6\n"
          ]
        }
      ]
    },
    {
      "cell_type": "markdown",
      "source": [
        "Q3. Write a Python Program for array rotation?"
      ],
      "metadata": {
        "id": "7ZGVIDxYfG0d"
      }
    },
    {
      "cell_type": "code",
      "source": [
        "arr = np.array([1,2,3,4,5,6])\n",
        "print(arr[::-1])"
      ],
      "metadata": {
        "colab": {
          "base_uri": "https://localhost:8080/"
        },
        "id": "tDESZ0QUfHs-",
        "outputId": "e43e8576-1ef5-428b-f0a3-1af5b5f645bb"
      },
      "execution_count": 3,
      "outputs": [
        {
          "output_type": "stream",
          "name": "stdout",
          "text": [
            "[6 5 4 3 2 1]\n"
          ]
        }
      ]
    },
    {
      "cell_type": "markdown",
      "source": [
        "Q4. Write a Python Program to Split the array and add the first part to the end?"
      ],
      "metadata": {
        "id": "EJQ3swYLfW1v"
      }
    },
    {
      "cell_type": "code",
      "source": [
        "arr = np.array([1,2,3,4,5,6])\n",
        "splits = np.array_split(arr, 2)\n",
        "print(np.append(splits[1], splits[0]))"
      ],
      "metadata": {
        "colab": {
          "base_uri": "https://localhost:8080/"
        },
        "id": "D8vx7pgbfYMw",
        "outputId": "cb41886e-a8eb-4276-f605-16006d14eb6a"
      },
      "execution_count": 4,
      "outputs": [
        {
          "output_type": "stream",
          "name": "stdout",
          "text": [
            "[4 5 6 1 2 3]\n"
          ]
        }
      ]
    },
    {
      "cell_type": "markdown",
      "source": [
        "Q5. Write a Python Program to check if given array is Monotonic?"
      ],
      "metadata": {
        "id": "aWr3faN3hRm8"
      }
    },
    {
      "cell_type": "code",
      "source": [
        "def is_monotonic(lst):\n",
        "    if lst[0]>lst[1]:\n",
        "        for i in range(len(lst)-1):\n",
        "            if lst[i]<lst[i+1]:\n",
        "                return 'Non Monotonic'\n",
        "        return 'Monotonic'\n",
        "\n",
        "    else:\n",
        "        for i in range(len(lst)-1):\n",
        "            if lst[i]>lst[i+1]:\n",
        "                return 'Non Monotonic'\n",
        "        return 'Monotonic'\n",
        "\n",
        "arr = np.array([1,2,3,4,5,6])\n",
        "print(is_monotonic(arr))\n",
        "arr1 = np.array([1,2,3,4,7,5,6])\n",
        "print(is_monotonic(arr1))"
      ],
      "metadata": {
        "colab": {
          "base_uri": "https://localhost:8080/"
        },
        "id": "m5WpfMH0hStU",
        "outputId": "c81d802a-9a02-4fb7-d14e-00904356270f"
      },
      "execution_count": 5,
      "outputs": [
        {
          "output_type": "stream",
          "name": "stdout",
          "text": [
            "Monotonic\n",
            "Non Monotonic\n"
          ]
        }
      ]
    }
  ]
}