{
  "nbformat": 4,
  "nbformat_minor": 0,
  "metadata": {
    "colab": {
      "name": "Progamming_Assignment_8.ipynb",
      "provenance": [],
      "authorship_tag": "ABX9TyPkUSqhAm+y15OqLeL/gu3K"
    },
    "kernelspec": {
      "name": "python3",
      "display_name": "Python 3"
    },
    "language_info": {
      "name": "python"
    }
  },
  "cells": [
    {
      "cell_type": "markdown",
      "source": [
        "1. Write a Python Program to Add Two Matrices?"
      ],
      "metadata": {
        "id": "YbQi5l88tyge"
      }
    },
    {
      "cell_type": "code",
      "execution_count": 1,
      "metadata": {
        "colab": {
          "base_uri": "https://localhost:8080/"
        },
        "id": "Lqfj5mK9tuX3",
        "outputId": "fc693ebc-845a-4abb-a472-be06f20d769e"
      },
      "outputs": [
        {
          "output_type": "stream",
          "name": "stdout",
          "text": [
            "[[0 1 2]\n",
            " [3 4 5]]\n",
            "[[ 6  7  8]\n",
            " [ 9 10 11]]\n",
            "[[ 6  8 10]\n",
            " [12 14 16]]\n"
          ]
        }
      ],
      "source": [
        "import numpy as np\n",
        "arr1 = np.arange(6).reshape(2,3)\n",
        "arr2 = np.arange(6,12).reshape(2,3)\n",
        "arr3 = arr1 + arr2\n",
        "print(arr1)\n",
        "print(arr2)\n",
        "print(arr3)"
      ]
    },
    {
      "cell_type": "markdown",
      "source": [
        "2. Write a Python Program to Multiply Two Matrices?"
      ],
      "metadata": {
        "id": "vGjVBR9KuxGE"
      }
    },
    {
      "cell_type": "code",
      "source": [
        "arr1 = np.arange(6).reshape(2,3)\n",
        "arr2 = np.arange(6,12).reshape(3,2)\n",
        "arr3 = np.dot(arr1, arr2)\n",
        "print(arr1)\n",
        "print(arr2)\n",
        "print(arr3)"
      ],
      "metadata": {
        "colab": {
          "base_uri": "https://localhost:8080/"
        },
        "id": "rlV7l32Ou0-c",
        "outputId": "6eba5964-01c8-46ee-cc80-c8816997f102"
      },
      "execution_count": 4,
      "outputs": [
        {
          "output_type": "stream",
          "name": "stdout",
          "text": [
            "[[0 1 2]\n",
            " [3 4 5]]\n",
            "[[ 6  7]\n",
            " [ 8  9]\n",
            " [10 11]]\n",
            "[[ 28  31]\n",
            " [100 112]]\n"
          ]
        }
      ]
    },
    {
      "cell_type": "markdown",
      "source": [
        "3. Write a Python Program to Transpose a Matrix?"
      ],
      "metadata": {
        "id": "BfaCe2BfvgK0"
      }
    },
    {
      "cell_type": "code",
      "source": [
        "arr1 = np.arange(6).reshape(2,3)\n",
        "arr2 = np.transpose(arr1)\n",
        "print(arr1)\n",
        "print(arr2)"
      ],
      "metadata": {
        "colab": {
          "base_uri": "https://localhost:8080/"
        },
        "id": "PwCJcQs1vIgr",
        "outputId": "7829d467-1e71-4a54-b186-27e40a6bf3f8"
      },
      "execution_count": 5,
      "outputs": [
        {
          "output_type": "stream",
          "name": "stdout",
          "text": [
            "[[0 1 2]\n",
            " [3 4 5]]\n",
            "[[0 3]\n",
            " [1 4]\n",
            " [2 5]]\n"
          ]
        }
      ]
    },
    {
      "cell_type": "markdown",
      "source": [
        "4. Write a Python Program to Sort Words in Alphabetic Order?"
      ],
      "metadata": {
        "id": "_wodZt1jvr8L"
      }
    },
    {
      "cell_type": "code",
      "source": [
        "my_str = 'Hello! welcome to the world of python'\n",
        "\n",
        "words = [word.lower() for word in my_str.split()]\n",
        "words.sort()\n",
        "\n",
        "for word in words:\n",
        "    print(word)\n",
        "\n"
      ],
      "metadata": {
        "colab": {
          "base_uri": "https://localhost:8080/"
        },
        "id": "y3lswtPzvsaT",
        "outputId": "ed46385b-bc94-4963-8940-9f79bcb2aee9"
      },
      "execution_count": 7,
      "outputs": [
        {
          "output_type": "stream",
          "name": "stdout",
          "text": [
            "hello!\n",
            "of\n",
            "python\n",
            "the\n",
            "to\n",
            "welcome\n",
            "world\n"
          ]
        }
      ]
    },
    {
      "cell_type": "markdown",
      "source": [
        "5. Write a Python Program to Remove Punctuation From a String?"
      ],
      "metadata": {
        "id": "m_SYWAjrwljD"
      }
    },
    {
      "cell_type": "code",
      "source": [
        "import re\n",
        " \n",
        "test_str = \"Python is the simple, easy, fantastic! to @learn\"\n",
        " \n",
        "print(\"The original string is : \" + test_str)\n",
        " \n",
        "res = re.sub(r'[^\\w\\s]', '', test_str)\n",
        "\n",
        "print(\"The string after punctuation filter : \" + res)"
      ],
      "metadata": {
        "colab": {
          "base_uri": "https://localhost:8080/"
        },
        "id": "BR6_oH5Nwma6",
        "outputId": "2b4d0b42-3542-40ad-ed2f-224194d21fcf"
      },
      "execution_count": 8,
      "outputs": [
        {
          "output_type": "stream",
          "name": "stdout",
          "text": [
            "The original string is : Python is the simple, easy, fantastic! to @learn\n",
            "The string after punctuation filter : Python is the simple easy fantastic to learn\n"
          ]
        }
      ]
    }
  ]
}