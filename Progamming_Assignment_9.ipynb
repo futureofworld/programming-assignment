{
  "nbformat": 4,
  "nbformat_minor": 0,
  "metadata": {
    "colab": {
      "name": "Progamming_Assignment_9.ipynb",
      "provenance": [],
      "authorship_tag": "ABX9TyMFtHIfvrzhETKA6DjlNDwh"
    },
    "kernelspec": {
      "name": "python3",
      "display_name": "Python 3"
    },
    "language_info": {
      "name": "python"
    }
  },
  "cells": [
    {
      "cell_type": "markdown",
      "source": [
        "1. Write a Python program to find sum of elements in list?"
      ],
      "metadata": {
        "id": "xEvjEJkZISQm"
      }
    },
    {
      "cell_type": "code",
      "execution_count": 1,
      "metadata": {
        "colab": {
          "base_uri": "https://localhost:8080/"
        },
        "id": "1gqcsUKsIOfp",
        "outputId": "1b987a99-6643-45d2-eaa1-54e39693fcb1"
      },
      "outputs": [
        {
          "output_type": "stream",
          "name": "stdout",
          "text": [
            "21\n"
          ]
        }
      ],
      "source": [
        "lst = [1,2,3,4,5,6]\n",
        "sum = 0\n",
        "for i in lst:\n",
        "    sum += i\n",
        "\n",
        "print(sum)"
      ]
    },
    {
      "cell_type": "markdown",
      "source": [
        "2. Write a Python program to Multiply all numbers in the list?"
      ],
      "metadata": {
        "id": "lH6-aepNIpdW"
      }
    },
    {
      "cell_type": "code",
      "source": [
        "mul = 1\n",
        "for i in lst:\n",
        "    mul *= i\n",
        "\n",
        "print(mul)"
      ],
      "metadata": {
        "colab": {
          "base_uri": "https://localhost:8080/"
        },
        "id": "wfI-LfOAIqFV",
        "outputId": "22fcf2a3-7e59-41e4-899f-3a35d301b78d"
      },
      "execution_count": 3,
      "outputs": [
        {
          "output_type": "stream",
          "name": "stdout",
          "text": [
            "720\n"
          ]
        }
      ]
    },
    {
      "cell_type": "markdown",
      "source": [
        "3. Write a Python program to find smallest number in a list?"
      ],
      "metadata": {
        "id": "2AaMU9j8I6HO"
      }
    },
    {
      "cell_type": "code",
      "source": [
        "small = 100\n",
        "for i in lst:\n",
        "    if i<small:\n",
        "        small = i\n",
        "\n",
        "print(small)"
      ],
      "metadata": {
        "colab": {
          "base_uri": "https://localhost:8080/"
        },
        "id": "V8HQ8GcNI6kl",
        "outputId": "4e7d6fc2-d601-4d88-c571-230b1eb3acf8"
      },
      "execution_count": 4,
      "outputs": [
        {
          "output_type": "stream",
          "name": "stdout",
          "text": [
            "1\n"
          ]
        }
      ]
    },
    {
      "cell_type": "markdown",
      "source": [
        "4. Write a Python program to find largest number in a list?"
      ],
      "metadata": {
        "id": "p7syz59XJOId"
      }
    },
    {
      "cell_type": "code",
      "source": [
        "large = 0\n",
        "for i in lst:\n",
        "    if i>large:\n",
        "        large = i\n",
        "\n",
        "print(large)"
      ],
      "metadata": {
        "colab": {
          "base_uri": "https://localhost:8080/"
        },
        "id": "3-Qb_lctJOs0",
        "outputId": "919784a5-e164-4321-8e55-727428f87459"
      },
      "execution_count": 5,
      "outputs": [
        {
          "output_type": "stream",
          "name": "stdout",
          "text": [
            "6\n"
          ]
        }
      ]
    },
    {
      "cell_type": "markdown",
      "source": [
        "5. Write a Python program to find second largest number in a list?"
      ],
      "metadata": {
        "id": "ollMmu87Jae1"
      }
    },
    {
      "cell_type": "code",
      "source": [
        "firstLarge = 0\n",
        "secondLarge = 0\n",
        "for i in lst:\n",
        "    if(i>firstLarge):\n",
        "        secondLarge = firstLarge\n",
        "        firstLarge = i\n",
        "\n",
        "print(secondLarge)"
      ],
      "metadata": {
        "colab": {
          "base_uri": "https://localhost:8080/"
        },
        "id": "MF66KF8VJbFl",
        "outputId": "7cf09c40-f226-48d1-9973-491aad6350eb"
      },
      "execution_count": 6,
      "outputs": [
        {
          "output_type": "stream",
          "name": "stdout",
          "text": [
            "5\n"
          ]
        }
      ]
    }
  ]
}