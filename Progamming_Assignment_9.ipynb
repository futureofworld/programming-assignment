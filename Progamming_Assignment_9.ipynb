{
  "nbformat": 4,
  "nbformat_minor": 0,
  "metadata": {
    "colab": {
      "name": "Progamming_Assignment_9.ipynb",
      "provenance": [],
      "authorship_tag": "ABX9TyP9JHpqIQv/0IWQQjt0CZJa"
    },
    "kernelspec": {
      "name": "python3",
      "display_name": "Python 3"
    },
    "language_info": {
      "name": "python"
    }
  },
  "cells": [
    {
      "cell_type": "markdown",
      "source": [
        "1. Write a Python program to find sum of elements in list?"
      ],
      "metadata": {
        "id": "xEvjEJkZISQm"
      }
    },
    {
      "cell_type": "code",
      "execution_count": 1,
      "metadata": {
        "colab": {
          "base_uri": "https://localhost:8080/"
        },
        "id": "1gqcsUKsIOfp",
        "outputId": "1b987a99-6643-45d2-eaa1-54e39693fcb1"
      },
      "outputs": [
        {
          "output_type": "stream",
          "name": "stdout",
          "text": [
            "21\n"
          ]
        }
      ],
      "source": [
        "lst = [1,2,3,4,5,6]\n",
        "sum = 0\n",
        "for i in lst:\n",
        "    sum += i\n",
        "\n",
        "print(sum)"
      ]
    },
    {
      "cell_type": "markdown",
      "source": [
        "2. Write a Python program to Multiply all numbers in the list?"
      ],
      "metadata": {
        "id": "lH6-aepNIpdW"
      }
    },
    {
      "cell_type": "code",
      "source": [
        "mul = 1\n",
        "for i in lst:\n",
        "    mul *= i\n",
        "\n",
        "print(mul)"
      ],
      "metadata": {
        "colab": {
          "base_uri": "https://localhost:8080/"
        },
        "id": "wfI-LfOAIqFV",
        "outputId": "22fcf2a3-7e59-41e4-899f-3a35d301b78d"
      },
      "execution_count": 3,
      "outputs": [
        {
          "output_type": "stream",
          "name": "stdout",
          "text": [
            "720\n"
          ]
        }
      ]
    },
    {
      "cell_type": "markdown",
      "source": [
        "3. Write a Python program to find smallest number in a list?"
      ],
      "metadata": {
        "id": "2AaMU9j8I6HO"
      }
    },
    {
      "cell_type": "code",
      "source": [
        "small = 100\n",
        "for i in lst:\n",
        "    if i<small:\n",
        "        small = i\n",
        "\n",
        "print(small)"
      ],
      "metadata": {
        "colab": {
          "base_uri": "https://localhost:8080/"
        },
        "id": "V8HQ8GcNI6kl",
        "outputId": "4e7d6fc2-d601-4d88-c571-230b1eb3acf8"
      },
      "execution_count": 4,
      "outputs": [
        {
          "output_type": "stream",
          "name": "stdout",
          "text": [
            "1\n"
          ]
        }
      ]
    },
    {
      "cell_type": "markdown",
      "source": [
        "4. Write a Python program to find largest number in a list?"
      ],
      "metadata": {
        "id": "p7syz59XJOId"
      }
    },
    {
      "cell_type": "code",
      "source": [
        "large = 0\n",
        "for i in lst:\n",
        "    if i>large:\n",
        "        large = i\n",
        "\n",
        "print(large)"
      ],
      "metadata": {
        "colab": {
          "base_uri": "https://localhost:8080/"
        },
        "id": "3-Qb_lctJOs0",
        "outputId": "919784a5-e164-4321-8e55-727428f87459"
      },
      "execution_count": 5,
      "outputs": [
        {
          "output_type": "stream",
          "name": "stdout",
          "text": [
            "6\n"
          ]
        }
      ]
    },
    {
      "cell_type": "markdown",
      "source": [
        "5. Write a Python program to find second largest number in a list?"
      ],
      "metadata": {
        "id": "ollMmu87Jae1"
      }
    },
    {
      "cell_type": "code",
      "source": [
        "firstLarge = 0\n",
        "secondLarge = 0\n",
        "for i in lst:\n",
        "    if(i>firstLarge):\n",
        "        secondLarge = firstLarge\n",
        "        firstLarge = i\n",
        "\n",
        "print(secondLarge)"
      ],
      "metadata": {
        "colab": {
          "base_uri": "https://localhost:8080/"
        },
        "id": "MF66KF8VJbFl",
        "outputId": "7cf09c40-f226-48d1-9973-491aad6350eb"
      },
      "execution_count": 6,
      "outputs": [
        {
          "output_type": "stream",
          "name": "stdout",
          "text": [
            "5\n"
          ]
        }
      ]
    },
    {
      "cell_type": "markdown",
      "source": [
        "6. Write a Python program to find N largest elements from a list?"
      ],
      "metadata": {
        "id": "ZxPdzac0KZNz"
      }
    },
    {
      "cell_type": "code",
      "source": [
        "N = 3\n",
        "lst.sort(reverse=True)\n",
        "for i in lst:\n",
        "    if N>0:\n",
        "        print(i)\n",
        "        N-=1"
      ],
      "metadata": {
        "colab": {
          "base_uri": "https://localhost:8080/"
        },
        "id": "Bwpkp8iGKaAL",
        "outputId": "036036d4-1b13-4fa9-b446-963a57d262ae"
      },
      "execution_count": 10,
      "outputs": [
        {
          "output_type": "stream",
          "name": "stdout",
          "text": [
            "6\n",
            "5\n",
            "4\n"
          ]
        }
      ]
    },
    {
      "cell_type": "markdown",
      "source": [
        "7. Write a Python program to print even numbers in a list?"
      ],
      "metadata": {
        "id": "Cq4heIpYLM-8"
      }
    },
    {
      "cell_type": "code",
      "source": [
        "lst = [1,2,3,4,5,6]\n",
        "for i in lst:\n",
        "    if(i%2==0):\n",
        "        print(i)"
      ],
      "metadata": {
        "colab": {
          "base_uri": "https://localhost:8080/"
        },
        "id": "M0O1dHtpLNgj",
        "outputId": "b0a72a34-e7a0-486a-a166-730e7235d129"
      },
      "execution_count": 11,
      "outputs": [
        {
          "output_type": "stream",
          "name": "stdout",
          "text": [
            "2\n",
            "4\n",
            "6\n"
          ]
        }
      ]
    },
    {
      "cell_type": "markdown",
      "source": [
        "8. Write a Python program to print odd numbers in a List?"
      ],
      "metadata": {
        "id": "3Dfkac-YLZKD"
      }
    },
    {
      "cell_type": "code",
      "source": [
        "for i in lst:\n",
        "    if (i%2!=0):\n",
        "        print(i)"
      ],
      "metadata": {
        "colab": {
          "base_uri": "https://localhost:8080/"
        },
        "id": "zufGbvtQLZpz",
        "outputId": "5afd4249-cd50-4fc4-a8cb-9f9365d1ee66"
      },
      "execution_count": 12,
      "outputs": [
        {
          "output_type": "stream",
          "name": "stdout",
          "text": [
            "1\n",
            "3\n",
            "5\n"
          ]
        }
      ]
    },
    {
      "cell_type": "markdown",
      "source": [
        "9. Write a Python program to Remove empty List from List?"
      ],
      "metadata": {
        "id": "BpzGrbD7Lg8D"
      }
    },
    {
      "cell_type": "code",
      "source": [
        "lst = [4, 5, [], 6, 7, [], 8]\n",
        "new_lst = [i for i in lst if i!=[]]\n",
        "print(f'list containing empty list is: {lst}')\n",
        "print(f'list after removint empty list is: {new_lst}')"
      ],
      "metadata": {
        "colab": {
          "base_uri": "https://localhost:8080/"
        },
        "id": "juOeZFfQLh80",
        "outputId": "ad61fa0b-0e5c-42bf-b3a1-b37649b65782"
      },
      "execution_count": 14,
      "outputs": [
        {
          "output_type": "stream",
          "name": "stdout",
          "text": [
            "list containing empty list is: [4, 5, [], 6, 7, [], 8]\n",
            "list after removint empty list is: [4, 5, 6, 7, 8]\n"
          ]
        }
      ]
    },
    {
      "cell_type": "markdown",
      "source": [
        "10. Write a Python program to Cloning or Copying a list?"
      ],
      "metadata": {
        "id": "Q6DFyId0Mmkq"
      }
    },
    {
      "cell_type": "code",
      "source": [
        "lst1 = [5,2,4,3,4,3,54,3]\n",
        "lst2 = list(lst1)\n",
        "print(f'Original list is {lst1}')\n",
        "print(f'After copying list is {lst2}')"
      ],
      "metadata": {
        "colab": {
          "base_uri": "https://localhost:8080/"
        },
        "id": "D1ZGJVp5MnR7",
        "outputId": "ef825bd1-8175-4299-c82e-bc50c92190d7"
      },
      "execution_count": 15,
      "outputs": [
        {
          "output_type": "stream",
          "name": "stdout",
          "text": [
            "Original list is [5, 2, 4, 3, 4, 3, 54, 3]\n",
            "After copying list is [5, 2, 4, 3, 4, 3, 54, 3]\n"
          ]
        }
      ]
    },
    {
      "cell_type": "markdown",
      "source": [
        "11. Write a Python program to Count occurrences of an element in a list?"
      ],
      "metadata": {
        "id": "XyI_7fx0NRlB"
      }
    },
    {
      "cell_type": "code",
      "source": [
        "lst = [5,2,4,3,4,3,54,3]\n",
        "dct = {}\n",
        "for i in lst:\n",
        "    if i in dct:\n",
        "        dct[i] += 1\n",
        "    else:\n",
        "        dct[i] = 1\n",
        "\n",
        "print(dct)"
      ],
      "metadata": {
        "colab": {
          "base_uri": "https://localhost:8080/"
        },
        "id": "6uCtoKDNNSAa",
        "outputId": "f1602bb6-1ef8-403d-8763-5d212777aa80"
      },
      "execution_count": 16,
      "outputs": [
        {
          "output_type": "stream",
          "name": "stdout",
          "text": [
            "{5: 1, 2: 1, 4: 2, 3: 3, 54: 1}\n"
          ]
        }
      ]
    }
  ]
}