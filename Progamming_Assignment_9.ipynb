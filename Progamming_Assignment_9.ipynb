{
  "nbformat": 4,
  "nbformat_minor": 0,
  "metadata": {
    "colab": {
      "name": "Progamming_Assignment_9.ipynb",
      "provenance": [],
      "authorship_tag": "ABX9TyMQx6xwoecsjJKZGpIn/YlB"
    },
    "kernelspec": {
      "name": "python3",
      "display_name": "Python 3"
    },
    "language_info": {
      "name": "python"
    }
  },
  "cells": [
    {
      "cell_type": "markdown",
      "source": [
        "1. Write a Python program to check if the given number is a Disarium Number?"
      ],
      "metadata": {
        "id": "94WMIkXD8Hx6"
      }
    },
    {
      "cell_type": "code",
      "execution_count": null,
      "metadata": {
        "colab": {
          "base_uri": "https://localhost:8080/"
        },
        "id": "rDqChdu18B_N",
        "outputId": "af10c508-4054-4253-f6db-3e7bfe41e262"
      },
      "outputs": [
        {
          "output_type": "stream",
          "name": "stdout",
          "text": [
            "518\n"
          ]
        }
      ],
      "source": [
        "def disarium(num, digits):\n",
        "    if (num<10):\n",
        "        return num\n",
        "    return (num%10)**digits +disarium(num//10, digits-1)\n",
        "\n",
        "print(disarium(518, 3))"
      ]
    },
    {
      "cell_type": "markdown",
      "source": [
        "2. Write a Python program to print all disarium numbers between 1 to 100?"
      ],
      "metadata": {
        "id": "23PeKxYA9E-A"
      }
    },
    {
      "cell_type": "code",
      "source": [
        "def disarium(num, digits):\n",
        "    if(num<10):\n",
        "        return num\n",
        "    return (num%10)**digits + disarium(num//10, digits-1)\n",
        "\n",
        "print('Daisarium numbers are: ')\n",
        "digit = 1\n",
        "for i in range(101):\n",
        "    if (i>10):\n",
        "        digit=2\n",
        "    if(i == disarium(i, digit)):\n",
        "        print(i)"
      ],
      "metadata": {
        "colab": {
          "base_uri": "https://localhost:8080/"
        },
        "id": "796eXLYO9FiZ",
        "outputId": "c29244aa-475d-4a3f-c62f-614d399180d1"
      },
      "execution_count": null,
      "outputs": [
        {
          "output_type": "stream",
          "name": "stdout",
          "text": [
            "Daisarium numbers are: \n",
            "0\n",
            "1\n",
            "2\n",
            "3\n",
            "4\n",
            "5\n",
            "6\n",
            "7\n",
            "8\n",
            "9\n",
            "89\n"
          ]
        }
      ]
    },
    {
      "cell_type": "markdown",
      "source": [
        "3. Write a Python program to check if the given number is Happy Number?"
      ],
      "metadata": {
        "id": "ge3M9dU296Wf"
      }
    },
    {
      "cell_type": "code",
      "source": [
        "def isHappy(n, visited):\n",
        "    if n==1:\n",
        "        return 'Happy Number'\n",
        "    if n in visited:\n",
        "        return 'Not a Happy Number'\n",
        "    visited[n] = 1\n",
        "    n = str(n) # convert the number into string\n",
        "    l = list(n) # convert the string into individual numbers n='19' => ['1', '9']\n",
        "    l = list(map(int, l)) # convert ['1', '9'] => [1,9]\n",
        "    temp = 0\n",
        "    for i in l:\n",
        "        temp += (i**2)\n",
        "    return isHappy(temp, visited)\n",
        "\n",
        "num = int(input('Enter a number: '))\n",
        "print(f'{num} is {isHappy(num, {})}')"
      ],
      "metadata": {
        "colab": {
          "base_uri": "https://localhost:8080/"
        },
        "id": "Hu3-A6ar_fb9",
        "outputId": "dc85ee50-e3c9-4f99-97d7-0e6dfb95cc3e"
      },
      "execution_count": null,
      "outputs": [
        {
          "output_type": "stream",
          "name": "stdout",
          "text": [
            "Enter a number: 7\n",
            "7 is Happy Number\n"
          ]
        }
      ]
    },
    {
      "cell_type": "markdown",
      "source": [
        "4. Write a Python program to print all happy numbers between 1 and 100?"
      ],
      "metadata": {
        "id": "-4GZ6RS8EMoi"
      }
    },
    {
      "cell_type": "code",
      "source": [
        "for i in range(101):\n",
        "    if (isHappy(i, {}) == 'Happy Number'):\n",
        "        print(i)"
      ],
      "metadata": {
        "colab": {
          "base_uri": "https://localhost:8080/"
        },
        "id": "jKBQSAQIDXI6",
        "outputId": "d545a066-517b-4300-c74f-85f4e1074d40"
      },
      "execution_count": null,
      "outputs": [
        {
          "output_type": "stream",
          "name": "stdout",
          "text": [
            "1\n",
            "7\n",
            "10\n",
            "13\n",
            "19\n",
            "23\n",
            "28\n",
            "31\n",
            "32\n",
            "44\n",
            "49\n",
            "68\n",
            "70\n",
            "79\n",
            "82\n",
            "86\n",
            "91\n",
            "94\n",
            "97\n",
            "100\n"
          ]
        }
      ]
    },
    {
      "cell_type": "markdown",
      "source": [
        "5. Write a Python program to determine whether the given number is a Harshad Number?"
      ],
      "metadata": {
        "id": "CFqCgdL5EiqJ"
      }
    },
    {
      "cell_type": "code",
      "source": [
        "def digitSum(num):\n",
        "    if(num<10):\n",
        "        return num\n",
        "    return num%10 + digitSum(num//10)\n",
        "\n",
        "def harshad(num):\n",
        "    sum = digitSum(num)\n",
        "    if(num%sum == 0):\n",
        "        return 'Harshad Number'\n",
        "    else:\n",
        "        return 'Not a Harshad Number'\n",
        "\n",
        "harshadNo = harshad(21)\n",
        "print(harshadNo)"
      ],
      "metadata": {
        "colab": {
          "base_uri": "https://localhost:8080/"
        },
        "id": "LaAewucIEui6",
        "outputId": "e9a6499b-5d86-46bb-da8e-edfeabc7491e"
      },
      "execution_count": null,
      "outputs": [
        {
          "output_type": "stream",
          "name": "stdout",
          "text": [
            "Harshad Number\n"
          ]
        }
      ]
    },
    {
      "cell_type": "markdown",
      "source": [
        "6. Write a Python program to print all pronic numbers between 1 and 100?"
      ],
      "metadata": {
        "id": "dDH415YKG0y_"
      }
    },
    {
      "cell_type": "code",
      "source": [
        "print('Pronic number between 1 and 100 are: ')\n",
        "for i in range(1, 101):\n",
        "    print(i * (i+1))"
      ],
      "metadata": {
        "colab": {
          "base_uri": "https://localhost:8080/"
        },
        "id": "-q8flOFcG14R",
        "outputId": "cf3f115a-6f68-4ead-8fe1-25cfa6a90a87"
      },
      "execution_count": null,
      "outputs": [
        {
          "output_type": "stream",
          "name": "stdout",
          "text": [
            "Pronic number between 1 and 100 are: \n",
            "2\n",
            "6\n",
            "12\n",
            "20\n",
            "30\n",
            "42\n",
            "56\n",
            "72\n",
            "90\n",
            "110\n",
            "132\n",
            "156\n",
            "182\n",
            "210\n",
            "240\n",
            "272\n",
            "306\n",
            "342\n",
            "380\n",
            "420\n",
            "462\n",
            "506\n",
            "552\n",
            "600\n",
            "650\n",
            "702\n",
            "756\n",
            "812\n",
            "870\n",
            "930\n",
            "992\n",
            "1056\n",
            "1122\n",
            "1190\n",
            "1260\n",
            "1332\n",
            "1406\n",
            "1482\n",
            "1560\n",
            "1640\n",
            "1722\n",
            "1806\n",
            "1892\n",
            "1980\n",
            "2070\n",
            "2162\n",
            "2256\n",
            "2352\n",
            "2450\n",
            "2550\n",
            "2652\n",
            "2756\n",
            "2862\n",
            "2970\n",
            "3080\n",
            "3192\n",
            "3306\n",
            "3422\n",
            "3540\n",
            "3660\n",
            "3782\n",
            "3906\n",
            "4032\n",
            "4160\n",
            "4290\n",
            "4422\n",
            "4556\n",
            "4692\n",
            "4830\n",
            "4970\n",
            "5112\n",
            "5256\n",
            "5402\n",
            "5550\n",
            "5700\n",
            "5852\n",
            "6006\n",
            "6162\n",
            "6320\n",
            "6480\n",
            "6642\n",
            "6806\n",
            "6972\n",
            "7140\n",
            "7310\n",
            "7482\n",
            "7656\n",
            "7832\n",
            "8010\n",
            "8190\n",
            "8372\n",
            "8556\n",
            "8742\n",
            "8930\n",
            "9120\n",
            "9312\n",
            "9506\n",
            "9702\n",
            "9900\n",
            "10100\n"
          ]
        }
      ]
    }
  ]
}