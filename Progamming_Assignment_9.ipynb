{
  "nbformat": 4,
  "nbformat_minor": 0,
  "metadata": {
    "colab": {
      "name": "Progamming_Assignment_9.ipynb",
      "provenance": [],
      "authorship_tag": "ABX9TyPp7WJeDUPhmVbywCfvBFcF"
    },
    "kernelspec": {
      "name": "python3",
      "display_name": "Python 3"
    },
    "language_info": {
      "name": "python"
    }
  },
  "cells": [
    {
      "cell_type": "markdown",
      "source": [
        "1. Write a Python program to check if the given number is a Disarium Number?"
      ],
      "metadata": {
        "id": "94WMIkXD8Hx6"
      }
    },
    {
      "cell_type": "code",
      "execution_count": 1,
      "metadata": {
        "colab": {
          "base_uri": "https://localhost:8080/"
        },
        "id": "rDqChdu18B_N",
        "outputId": "af10c508-4054-4253-f6db-3e7bfe41e262"
      },
      "outputs": [
        {
          "output_type": "stream",
          "name": "stdout",
          "text": [
            "518\n"
          ]
        }
      ],
      "source": [
        "def disarium(num, digits):\n",
        "    if (num<10):\n",
        "        return num\n",
        "    return (num%10)**digits +disarium(num//10, digits-1)\n",
        "\n",
        "print(disarium(518, 3))"
      ]
    },
    {
      "cell_type": "markdown",
      "source": [
        "2. Write a Python program to print all disarium numbers between 1 to 100?"
      ],
      "metadata": {
        "id": "23PeKxYA9E-A"
      }
    },
    {
      "cell_type": "code",
      "source": [
        "def disarium(num, digits):\n",
        "    if(num<10):\n",
        "        return num\n",
        "    return (num%10)**digits + disarium(num//10, digits-1)\n",
        "\n",
        "print('Daisarium numbers are: ')\n",
        "digit = 1\n",
        "for i in range(101):\n",
        "    if (i>10):\n",
        "        digit=2\n",
        "    if(i == disarium(i, digit)):\n",
        "        print(i)"
      ],
      "metadata": {
        "colab": {
          "base_uri": "https://localhost:8080/"
        },
        "id": "796eXLYO9FiZ",
        "outputId": "c29244aa-475d-4a3f-c62f-614d399180d1"
      },
      "execution_count": 2,
      "outputs": [
        {
          "output_type": "stream",
          "name": "stdout",
          "text": [
            "Daisarium numbers are: \n",
            "0\n",
            "1\n",
            "2\n",
            "3\n",
            "4\n",
            "5\n",
            "6\n",
            "7\n",
            "8\n",
            "9\n",
            "89\n"
          ]
        }
      ]
    },
    {
      "cell_type": "markdown",
      "source": [
        "3. Write a Python program to check if the given number is Happy Number?"
      ],
      "metadata": {
        "id": "ge3M9dU296Wf"
      }
    },
    {
      "cell_type": "code",
      "source": [
        "def isHappy(n, visited):\n",
        "    if n==1:\n",
        "        return 'Happy Number'\n",
        "    if n in visited:\n",
        "        return 'Not a Happy Number'\n",
        "    visited[n] = 1\n",
        "    n = str(n) # convert the number into string\n",
        "    l = list(n) # convert the string into individual numbers n='19' => ['1', '9']\n",
        "    l = list(map(int, l)) # convert ['1', '9'] => [1,9]\n",
        "    temp = 0\n",
        "    for i in l:\n",
        "        temp += (i**2)\n",
        "    return isHappy(temp, visited)\n",
        "\n",
        "num = int(input('Enter a number: '))\n",
        "print(f'{num} is {isHappy(num, {})}')"
      ],
      "metadata": {
        "colab": {
          "base_uri": "https://localhost:8080/"
        },
        "id": "Hu3-A6ar_fb9",
        "outputId": "dc85ee50-e3c9-4f99-97d7-0e6dfb95cc3e"
      },
      "execution_count": 3,
      "outputs": [
        {
          "output_type": "stream",
          "name": "stdout",
          "text": [
            "Enter a number: 7\n",
            "7 is Happy Number\n"
          ]
        }
      ]
    },
    {
      "cell_type": "markdown",
      "source": [
        "4. Write a Python program to print all happy numbers between 1 and 100?"
      ],
      "metadata": {
        "id": "-4GZ6RS8EMoi"
      }
    },
    {
      "cell_type": "code",
      "source": [
        "for i in range(101):\n",
        "    if (isHappy(i, {}) == 'Happy Number'):\n",
        "        print(i)"
      ],
      "metadata": {
        "colab": {
          "base_uri": "https://localhost:8080/"
        },
        "id": "jKBQSAQIDXI6",
        "outputId": "d545a066-517b-4300-c74f-85f4e1074d40"
      },
      "execution_count": 4,
      "outputs": [
        {
          "output_type": "stream",
          "name": "stdout",
          "text": [
            "1\n",
            "7\n",
            "10\n",
            "13\n",
            "19\n",
            "23\n",
            "28\n",
            "31\n",
            "32\n",
            "44\n",
            "49\n",
            "68\n",
            "70\n",
            "79\n",
            "82\n",
            "86\n",
            "91\n",
            "94\n",
            "97\n",
            "100\n"
          ]
        }
      ]
    },
    {
      "cell_type": "markdown",
      "source": [
        "5. Write a Python program to determine whether the given number is a Harshad Number?"
      ],
      "metadata": {
        "id": "CFqCgdL5EiqJ"
      }
    },
    {
      "cell_type": "code",
      "source": [
        "def digitSum(num):\n",
        "    if(num<10):\n",
        "        return num\n",
        "    return num%10 + digitSum(num//10)\n",
        "\n",
        "def harshad(num):\n",
        "    sum = digitSum(num)\n",
        "    if(num%sum == 0):\n",
        "        return 'Harshad Number'\n",
        "    else:\n",
        "        return 'Not a Harshad Number'\n",
        "\n",
        "harshadNo = harshad(21)\n",
        "print(harshadNo)"
      ],
      "metadata": {
        "colab": {
          "base_uri": "https://localhost:8080/"
        },
        "id": "LaAewucIEui6",
        "outputId": "e9a6499b-5d86-46bb-da8e-edfeabc7491e"
      },
      "execution_count": 5,
      "outputs": [
        {
          "output_type": "stream",
          "name": "stdout",
          "text": [
            "Harshad Number\n"
          ]
        }
      ]
    }
  ]
}