{
  "nbformat": 4,
  "nbformat_minor": 0,
  "metadata": {
    "colab": {
      "name": "Programming_Assignment_1.ipynb",
      "provenance": [],
      "authorship_tag": "ABX9TyMQHd1/0Zg2P8BQUCSJ0/uM"
    },
    "kernelspec": {
      "name": "python3",
      "display_name": "Python 3"
    },
    "language_info": {
      "name": "python"
    }
  },
  "cells": [
    {
      "cell_type": "markdown",
      "source": [
        "1. Write a Python program to print &quot;Hello Python&quot;?\n"
      ],
      "metadata": {
        "id": "Jv9UEeoaXqEp"
      }
    },
    {
      "cell_type": "code",
      "source": [
        "print('Hello Python')"
      ],
      "metadata": {
        "colab": {
          "base_uri": "https://localhost:8080/"
        },
        "id": "v0cTOqURXuBs",
        "outputId": "02892b25-f4b2-41f4-ddde-dc6d418d7e8a"
      },
      "execution_count": 1,
      "outputs": [
        {
          "output_type": "stream",
          "name": "stdout",
          "text": [
            "Hello Python\n"
          ]
        }
      ]
    },
    {
      "cell_type": "markdown",
      "source": [
        "\n",
        "2. Write a Python program to do arithmetical operations addition and division.?\n"
      ],
      "metadata": {
        "id": "9Eld9LRWYcDi"
      }
    },
    {
      "cell_type": "code",
      "source": [
        "a = 6\n",
        "b = 3\n",
        "print(a+b)\n",
        "print(a/b)"
      ],
      "metadata": {
        "colab": {
          "base_uri": "https://localhost:8080/"
        },
        "id": "vxBIRepbXw3N",
        "outputId": "f3fcfe7c-f708-4bb1-b073-c33c7b5a90d1"
      },
      "execution_count": 2,
      "outputs": [
        {
          "output_type": "stream",
          "name": "stdout",
          "text": [
            "9\n",
            "2.0\n"
          ]
        }
      ]
    },
    {
      "cell_type": "markdown",
      "source": [
        "3.\n",
        "Write a Python program to find the area of a triangle?"
      ],
      "metadata": {
        "id": "j5u9tdwyYm1y"
      }
    },
    {
      "cell_type": "code",
      "source": [
        "base = 14\n",
        "height = 12\n",
        "area = 0.5 * base * height\n",
        "print(area)"
      ],
      "metadata": {
        "colab": {
          "base_uri": "https://localhost:8080/"
        },
        "id": "LYk0f4DGX6Jr",
        "outputId": "3a5f4f26-6ff3-4b7a-994e-1fb7402a24c5"
      },
      "execution_count": 3,
      "outputs": [
        {
          "output_type": "stream",
          "name": "stdout",
          "text": [
            "84.0\n"
          ]
        }
      ]
    },
    {
      "cell_type": "markdown",
      "source": [
        "4. \n",
        "Write a Python program to swap two variables?"
      ],
      "metadata": {
        "id": "KtG4VQnRYjEb"
      }
    },
    {
      "cell_type": "code",
      "source": [
        "a = 8\n",
        "b = 7\n",
        "temp = a\n",
        "a = b\n",
        "b = temp\n",
        "print(a,b)"
      ],
      "metadata": {
        "colab": {
          "base_uri": "https://localhost:8080/"
        },
        "id": "64C0bK9KYCr0",
        "outputId": "26c6a067-05ad-4803-94e3-a40eca94ec61"
      },
      "execution_count": 4,
      "outputs": [
        {
          "output_type": "stream",
          "name": "stdout",
          "text": [
            "7 8\n"
          ]
        }
      ]
    },
    {
      "cell_type": "markdown",
      "source": [
        "5. \n",
        "Write a Python program to generate a random number?"
      ],
      "metadata": {
        "id": "BllNMBskYpPC"
      }
    },
    {
      "cell_type": "code",
      "source": [
        "import random\n",
        "print(random.randint(0,100))"
      ],
      "metadata": {
        "colab": {
          "base_uri": "https://localhost:8080/"
        },
        "id": "2pJoCFezYKUj",
        "outputId": "04a2e8ab-8b3f-4750-dee8-29285ffdf368"
      },
      "execution_count": 5,
      "outputs": [
        {
          "output_type": "stream",
          "name": "stdout",
          "text": [
            "75\n"
          ]
        }
      ]
    }
  ]
}