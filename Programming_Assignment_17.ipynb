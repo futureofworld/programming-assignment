{
  "nbformat": 4,
  "nbformat_minor": 0,
  "metadata": {
    "colab": {
      "name": "Programming_Assignment_17.ipynb",
      "provenance": [],
      "authorship_tag": "ABX9TyPjEJbCUx2yvkQr6h2wviAL"
    },
    "kernelspec": {
      "name": "python3",
      "display_name": "Python 3"
    },
    "language_info": {
      "name": "python"
    }
  },
  "cells": [
    {
      "cell_type": "markdown",
      "source": [
        "## Question1. \n",
        "\n",
        "Create a function that takes three arguments a, b, c and returns the sum of the\n",
        "numbers that are evenly divided by c from the range a, b inclusive.\n",
        "Examples\n",
        "\n",
        "evenly_divisible(1, 10, 20) ➞ 0\n",
        "\n",
        "No number between 1 and 10 can be evenly divided by 20.\n",
        "\n",
        "evenly_divisible(1, 10, 2) ➞ 30\n",
        "\n",
        "2 + 4 + 6 + 8 + 10 = 30\n",
        "\n",
        "evenly_divisible(1, 10, 3) ➞ 18\n",
        "\n",
        "3 + 6 + 9 = 18"
      ],
      "metadata": {
        "id": "UvDYfgVFSTDt"
      }
    },
    {
      "cell_type": "code",
      "execution_count": 1,
      "metadata": {
        "colab": {
          "base_uri": "https://localhost:8080/"
        },
        "id": "4tqT4CtwSSMa",
        "outputId": "6cb81aa0-ea2b-41e5-e3bf-4a8d7ac7d10d"
      },
      "outputs": [
        {
          "output_type": "stream",
          "name": "stdout",
          "text": [
            "0\n",
            "30\n",
            "18\n"
          ]
        }
      ],
      "source": [
        "def evenly_divisible(start, end, div):\n",
        "    sum = 0\n",
        "    for i in range(start, end+1):\n",
        "        if i%div == 0:\n",
        "            sum += i\n",
        "    return sum\n",
        "\n",
        "print(evenly_divisible(1,10,20))\n",
        "print(evenly_divisible(1,10,2))\n",
        "print(evenly_divisible(1,10,3))"
      ]
    },
    {
      "cell_type": "markdown",
      "source": [
        "## Question2. \n",
        "\n",
        "Create a function that returns True if a given inequality expression is correct and\n",
        "False otherwise.\n",
        "\n",
        "Examples\n",
        "\n",
        "correct_signs(&quot;3 &lt; 7 &lt; 11&quot;) ➞ True\n",
        "\n",
        "correct_signs(&quot;13 &gt; 44 &gt; 33 &gt; 1&quot;) ➞ False\n",
        "\n",
        "correct_signs(&quot;1 &lt; 2 &lt; 6 &lt; 9 &gt; 3&quot;) ➞ True"
      ],
      "metadata": {
        "id": "IGKpZc6uVdlh"
      }
    },
    {
      "cell_type": "code",
      "source": [
        "import re\n",
        "def correct_signs(exp):\n",
        "    lst = re.split('[<>]', exp)\n",
        "    lst = list(map(int, lst)) # convert list of string into list of int\n",
        "    # sign = re.split('[0-9]+', exp) gives ['', '<', \"<\", ''] to remove empty list use following list comphrehension\n",
        "    sign = [i for i in re.split('[0-9]+', exp) if i]\n",
        "\n",
        "    val = []\n",
        "    for i in range(len(sign)):\n",
        "        if sign[i] == '<':\n",
        "            val.append(lst[i]<lst[i+1])\n",
        "        else:\n",
        "            val.append(lst[i]>lst[i+1])\n",
        "\n",
        "    if False in val:\n",
        "        return False\n",
        "    else:\n",
        "        return True\n",
        "\n",
        "    \n",
        "print(correct_signs('3<7<11'))\n",
        "print(correct_signs('13>44>33>1'))\n",
        "print(correct_signs('1<2<6<9>3'))"
      ],
      "metadata": {
        "colab": {
          "base_uri": "https://localhost:8080/"
        },
        "id": "PBad-1w9VgNK",
        "outputId": "155a4fb0-346c-4f8d-a4df-4690bc6c33e9"
      },
      "execution_count": 2,
      "outputs": [
        {
          "output_type": "stream",
          "name": "stdout",
          "text": [
            "True\n",
            "False\n",
            "True\n"
          ]
        }
      ]
    },
    {
      "cell_type": "markdown",
      "source": [
        "## Question3. \n",
        "\n",
        "Create a function that replaces all the vowels in a string with a specified character.\n",
        "\n",
        "Examples\n",
        "\n",
        "replace_vowels(&quot;the aardvark&quot;, &quot;#&quot;) ➞ &quot;th# ##rdv#rk&quot;\n",
        "\n",
        "replace_vowels(&quot;minnie mouse&quot;, &quot;?&quot;) ➞ &quot;m?nn?? m??s?&quot;\n",
        "\n",
        "replace_vowels(&quot;shakespeare&quot;, \"*\";) ➞ &quot;sh*k*sp**r*&quot;"
      ],
      "metadata": {
        "id": "V4dpU34wgyhU"
      }
    },
    {
      "cell_type": "code",
      "source": [
        "def replace_vowels(sen, char):\n",
        "    vowel = ['a', 'e', 'i', 'o', 'u']\n",
        "    for i in sen:\n",
        "        if i in vowel:\n",
        "            sen = sen.replace(i, char)\n",
        "    return sen\n",
        "\n",
        "print(replace_vowels(\"the aardvark\", \"#\"))\n",
        "print(replace_vowels(\"minnie mouse\", \"?\"))\n",
        "print(replace_vowels(\"shakespeare\", \"*\"))"
      ],
      "metadata": {
        "colab": {
          "base_uri": "https://localhost:8080/"
        },
        "id": "fzJ6kzHSg030",
        "outputId": "b1fac7c5-bbaa-4c56-a63e-daf20bae5ecc"
      },
      "execution_count": 3,
      "outputs": [
        {
          "output_type": "stream",
          "name": "stdout",
          "text": [
            "th# ##rdv#rk\n",
            "m?nn?? m??s?\n",
            "sh*k*sp**r*\n"
          ]
        }
      ]
    },
    {
      "cell_type": "markdown",
      "source": [
        "## Question4. \n",
        "\n",
        "Write a function that calculates the factorial of a number recursively.\n",
        "Examples\n",
        "\n",
        "factorial(5) ➞ 120\n",
        "\n",
        "factorial(3) ➞ 6\n",
        "\n",
        "factorial(1) ➞ 1\n",
        "\n",
        "factorial(0) ➞ 1"
      ],
      "metadata": {
        "id": "9a3-FrtVj7bx"
      }
    },
    {
      "cell_type": "code",
      "source": [
        "def factorial(num):\n",
        "    if num <= 1:\n",
        "        return 1\n",
        "    return num * factorial(num-1)\n",
        "\n",
        "print(factorial(5))\n",
        "print(factorial(3))\n",
        "print(factorial(1))\n",
        "print(factorial(0))"
      ],
      "metadata": {
        "colab": {
          "base_uri": "https://localhost:8080/"
        },
        "id": "2AktZQm1j-uA",
        "outputId": "f2a7f7d8-00d3-492c-98a3-a933fcd72c14"
      },
      "execution_count": 4,
      "outputs": [
        {
          "output_type": "stream",
          "name": "stdout",
          "text": [
            "120\n",
            "6\n",
            "1\n",
            "1\n"
          ]
        }
      ]
    },
    {
      "cell_type": "markdown",
      "source": [
        "## Question 5\n",
        "Hamming distance is the number of characters that differ between two strings.\n",
        "\n",
        "To illustrate:\n",
        "String1: &quot;abcbba&quot;\n",
        "\n",
        "String2: &quot;abcbda&quot;\n",
        "\n",
        "Hamming Distance: 1 - &quot;b&quot; vs. &quot;d&quot; is the only difference.\n",
        "\n",
        "Create a function that computes the hamming distance between two strings.\n",
        "\n",
        "Examples\n",
        "\n",
        "hamming_distance(&quot;abcde&quot;, &quot;bcdef&quot;) ➞ 5\n",
        "\n",
        "hamming_distance(&quot;abcde&quot;, &quot;abcde&quot;) ➞ 0\n",
        "\n",
        "hamming_distance(&quot;strong&quot;, &quot;strung&quot;) ➞ 1"
      ],
      "metadata": {
        "id": "kKQ0Kz0lking"
      }
    },
    {
      "cell_type": "code",
      "source": [
        "def hamming_distance(str1, str2):\n",
        "    sum = 0\n",
        "    for i in range(len(str1)):\n",
        "        if str1[i] != str2[i]:\n",
        "            sum += 1\n",
        "\n",
        "    return sum\n",
        "\n",
        "print(hamming_distance('abcde', 'bcdef'))\n",
        "print(hamming_distance(\"abcde\", \"abcde\"))\n",
        "print(hamming_distance(\"strong\", \"strung\"))"
      ],
      "metadata": {
        "colab": {
          "base_uri": "https://localhost:8080/"
        },
        "id": "U2iOs5oEknMw",
        "outputId": "bf8ecddd-9b2f-43bb-94de-9698266e1e75"
      },
      "execution_count": 5,
      "outputs": [
        {
          "output_type": "stream",
          "name": "stdout",
          "text": [
            "5\n",
            "0\n",
            "1\n"
          ]
        }
      ]
    }
  ]
}