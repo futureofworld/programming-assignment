{
  "nbformat": 4,
  "nbformat_minor": 0,
  "metadata": {
    "colab": {
      "name": "Programming_Assignment_18.ipynb",
      "provenance": [],
      "authorship_tag": "ABX9TyPWDXL+WLk9UcrWNwB88hPq"
    },
    "kernelspec": {
      "name": "python3",
      "display_name": "Python 3"
    },
    "language_info": {
      "name": "python"
    }
  },
  "cells": [
    {
      "cell_type": "markdown",
      "source": [
        "## Question 1\n",
        "\n",
        "Create a function that takes a list of non-negative integers and strings and return a new list\n",
        "without the strings.\n",
        "\n",
        "Examples\n",
        "\n",
        "filter_list([1, 2, &quot;a&quot;, &quot;b&quot;]) ➞ [1, 2]\n",
        "\n",
        "filter_list([1, &quot;a&quot;, &quot;b&quot;, 0, 15]) ➞ [1, 0, 15]\n",
        "\n",
        "filter_list([1, 2, &quot;aasf&quot;, &quot;1&quot;, &quot;123&quot;, 123]) ➞ [1, 2, 123]"
      ],
      "metadata": {
        "id": "WfKUSax_uOEN"
      }
    },
    {
      "cell_type": "code",
      "execution_count": 2,
      "metadata": {
        "colab": {
          "base_uri": "https://localhost:8080/"
        },
        "id": "esU3EODWuM-5",
        "outputId": "d8488237-ad69-4331-bb0b-c1f126a1cdbf"
      },
      "outputs": [
        {
          "output_type": "stream",
          "name": "stdout",
          "text": [
            "[1, 2]\n",
            "[1, 0, 15]\n",
            "[1, 2, 123]\n"
          ]
        }
      ],
      "source": [
        "def filter_list(lst):\n",
        "    lst_int = []\n",
        "    for i in lst:\n",
        "        if type(i) == int:\n",
        "            lst_int.append(i)\n",
        "    return lst_int\n",
        "\n",
        "print(filter_list([1, 2, \"a\", \"b\"]))\n",
        "print(filter_list([1, \"a\", \"b\", 0, 15]))\n",
        "print(filter_list([1, 2, \"aasf\", \"1\", \"123\", 123]))"
      ]
    },
    {
      "cell_type": "markdown",
      "source": [
        "## Question 2\n",
        "The &quot;Reverser&quot; takes a string as input and returns that string in reverse order, with the\n",
        "\n",
        "opposite case.\n",
        "Examples\n",
        "\n",
        "reverse(&quot;Hello World&quot;) ➞ &quot;DLROw OLLEh&quot;\n",
        "\n",
        "reverse(&quot;ReVeRsE&quot;) ➞ &quot;eSrEvEr&quot;\n",
        "\n",
        "reverse(&quot;Radar&quot;) ➞ &quot;RADAr&quot;"
      ],
      "metadata": {
        "id": "HoVDvsVCu7hE"
      }
    },
    {
      "cell_type": "code",
      "source": [
        "def reverse(string):\n",
        "    string = string.swapcase()\n",
        "    return string[::-1]\n",
        "print(reverse('Hello World'))\n",
        "print(reverse(\"ReVeRsE\"))\n",
        "print(reverse(\"Radar\"))"
      ],
      "metadata": {
        "colab": {
          "base_uri": "https://localhost:8080/"
        },
        "id": "j6oAs8dju-1L",
        "outputId": "d8b84068-2c1f-45f6-e3f2-d2873bb957f3"
      },
      "execution_count": 10,
      "outputs": [
        {
          "output_type": "stream",
          "name": "stdout",
          "text": [
            "DLROw OLLEh\n",
            "eSrEvEr\n",
            "RADAr\n"
          ]
        }
      ]
    },
    {
      "cell_type": "markdown",
      "source": [
        "## Question 3\n",
        "\n",
        "You can assign variables from lists like this:\n",
        "\n",
        "lst = [1, 2, 3, 4, 5, 6]\n",
        "\n",
        "first = lst[0]\n",
        "\n",
        "middle = lst[1:-1]\n",
        "\n",
        "last = lst[-1]\n",
        "\n",
        "print(first) ➞ outputs 1\n",
        "\n",
        "print(middle) ➞ outputs [2, 3, 4, 5]\n",
        "\n",
        "print(last) ➞ outputs 6\n",
        "\n",
        "With Python 3, you can assign variables from lists in a much more succinct way. Create\n",
        "\n",
        "variables first, middle and last from the given list using destructuring assignment\n",
        "\n",
        "(check the Resources tab for some examples), where:\n",
        "\n",
        "first ➞ 1\n",
        "\n",
        "middle ➞ [2, 3, 4, 5]\n",
        "\n",
        "last ➞ 6\n",
        "\n",
        "Your task is to unpack the list writeyourcodehere into three variables, being first,\n",
        "middle, and last, with middle being everything in between the first and last element. Then\n",
        "print all three variables."
      ],
      "metadata": {
        "id": "7sDa7Onax6Np"
      }
    },
    {
      "cell_type": "code",
      "source": [
        "lst =  [1, 2, 3, 4, 5, 6]\n",
        "first, *middle, last = lst\n",
        "print(first)\n",
        "print(middle)\n",
        "print(last)"
      ],
      "metadata": {
        "colab": {
          "base_uri": "https://localhost:8080/"
        },
        "id": "805_dsFGyCyo",
        "outputId": "db3b1c7b-c9f8-490e-c3d1-b1f60d08c195"
      },
      "execution_count": 15,
      "outputs": [
        {
          "output_type": "stream",
          "name": "stdout",
          "text": [
            "1\n",
            "[2, 3, 4, 5]\n",
            "6\n"
          ]
        }
      ]
    },
    {
      "cell_type": "markdown",
      "source": [
        "## Question 4\n",
        "\n",
        "Write a function that calculates the factorial of a number recursively.\n",
        "Examples\n",
        "\n",
        "factorial(5) ➞ 120\n",
        "\n",
        "factorial(3) ➞ 6\n",
        "\n",
        "factorial(1) ➞ 1\n",
        "\n",
        "factorial(0) ➞ 1"
      ],
      "metadata": {
        "id": "auo7HC-hzbEW"
      }
    },
    {
      "cell_type": "code",
      "source": [
        "def factorial(num):\n",
        "    if num <= 1:\n",
        "        return 1\n",
        "    return num * factorial(num-1)\n",
        "\n",
        "print(factorial(5))\n",
        "print(factorial(3))\n",
        "print(factorial(1))\n",
        "print(factorial(0))"
      ],
      "metadata": {
        "colab": {
          "base_uri": "https://localhost:8080/"
        },
        "id": "P3nEu_5RzsEV",
        "outputId": "4f6e892c-5046-479f-9e44-7f2f7052b85e"
      },
      "execution_count": 16,
      "outputs": [
        {
          "output_type": "stream",
          "name": "stdout",
          "text": [
            "120\n",
            "6\n",
            "1\n",
            "1\n"
          ]
        }
      ]
    },
    {
      "cell_type": "markdown",
      "source": [
        "## Question 5\n",
        "\n",
        "Write a function that moves all elements of one type to the end of the list.\n",
        "\n",
        "Examples\n",
        "\n",
        "move_to_end([1, 3, 2, 4, 4, 1], 1) ➞ [3, 2, 4, 4, 1, 1]\n",
        "\n",
        "Move all the 1s to the end of the array.\n",
        "\n",
        "move_to_end([7, 8, 9, 1, 2, 3, 4], 9) ➞ [7, 8, 1, 2, 3, 4, 9]\n",
        "\n",
        "move_to_end([&quot;a&quot;, &quot;a&quot;, &quot;a&quot;, &quot;b&quot;], &quot;a&quot;) ➞ [&quot;b&quot;, &quot;a&quot;, &quot;a&quot;, &quot;a&quot;]"
      ],
      "metadata": {
        "id": "ZF81c8WRzvll"
      }
    },
    {
      "cell_type": "code",
      "source": [
        "def move_to_end(lst, num):\n",
        "    for i in lst:\n",
        "        if i == num:\n",
        "            lst.remove(i)\n",
        "            lst.append(i)\n",
        "\n",
        "    return lst\n",
        "\n",
        "print(move_to_end([1,3,2,4,4,1],1))\n",
        "print(move_to_end([7, 8, 9, 1, 2, 3, 4], 9))\n",
        "print(move_to_end([\"a\", \"a\", \"a\", \"b\"], \"a\"))"
      ],
      "metadata": {
        "colab": {
          "base_uri": "https://localhost:8080/"
        },
        "id": "m6t4pH_Dz2MF",
        "outputId": "f0170fab-3880-4a04-cdb9-be9618bf38d5"
      },
      "execution_count": 19,
      "outputs": [
        {
          "output_type": "stream",
          "name": "stdout",
          "text": [
            "[3, 2, 4, 4, 1, 1]\n",
            "[7, 8, 1, 2, 3, 4, 9]\n",
            "['b', 'a', 'a', 'a']\n"
          ]
        }
      ]
    }
  ]
}