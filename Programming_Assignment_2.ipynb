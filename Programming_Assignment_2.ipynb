{
  "nbformat": 4,
  "nbformat_minor": 0,
  "metadata": {
    "colab": {
      "name": "Programming_Assignment_2.ipynb",
      "provenance": [],
      "authorship_tag": "ABX9TyMh7a2GNZUsGvS5/fvqTLYi"
    },
    "kernelspec": {
      "name": "python3",
      "display_name": "Python 3"
    },
    "language_info": {
      "name": "python"
    }
  },
  "cells": [
    {
      "cell_type": "markdown",
      "source": [
        "1. Write a Python program to convert kilometers to miles?"
      ],
      "metadata": {
        "id": "zqpV-sE3Z1DS"
      }
    },
    {
      "cell_type": "code",
      "source": [
        "kilometer = 10\n",
        "miles = kilometer/1.609 # 1 mile = km/1.609\n",
        "print(miles)"
      ],
      "metadata": {
        "colab": {
          "base_uri": "https://localhost:8080/"
        },
        "id": "Kuad2jENZ2SB",
        "outputId": "2df09b0e-7bf1-47a4-fd5e-6336abd875e2"
      },
      "execution_count": 1,
      "outputs": [
        {
          "output_type": "stream",
          "name": "stdout",
          "text": [
            "6.215040397762586\n"
          ]
        }
      ]
    },
    {
      "cell_type": "markdown",
      "source": [
        "2. Write a Python program to convert Celsius to Fahrenheit?"
      ],
      "metadata": {
        "id": "aCVCfddhaEby"
      }
    },
    {
      "cell_type": "code",
      "source": [
        "celsius = 35\n",
        "fahrenheit = celsius*(9/5) + 32 # F = 9/5 * C + 32\n",
        "print(fahrenheit)"
      ],
      "metadata": {
        "colab": {
          "base_uri": "https://localhost:8080/"
        },
        "id": "47iHIR76aFOC",
        "outputId": "334fd214-f6d5-40b1-8b03-f31c0841a995"
      },
      "execution_count": 2,
      "outputs": [
        {
          "output_type": "stream",
          "name": "stdout",
          "text": [
            "95.0\n"
          ]
        }
      ]
    },
    {
      "cell_type": "markdown",
      "source": [
        "3. Write a Python program to display calendar?"
      ],
      "metadata": {
        "id": "Vy1FDU4MaTSp"
      }
    },
    {
      "cell_type": "code",
      "source": [
        "import calendar # calender help to generate calender\n",
        "year = 2022\n",
        "month = 6\n",
        "print(calendar.month(year, month)) # calender.month method takes two argment year and month"
      ],
      "metadata": {
        "colab": {
          "base_uri": "https://localhost:8080/"
        },
        "id": "yZv3s3xdaUx0",
        "outputId": "15beb5a8-ee47-46bc-e656-dd278e47704f"
      },
      "execution_count": 3,
      "outputs": [
        {
          "output_type": "stream",
          "name": "stdout",
          "text": [
            "     June 2022\n",
            "Mo Tu We Th Fr Sa Su\n",
            "       1  2  3  4  5\n",
            " 6  7  8  9 10 11 12\n",
            "13 14 15 16 17 18 19\n",
            "20 21 22 23 24 25 26\n",
            "27 28 29 30\n",
            "\n"
          ]
        }
      ]
    },
    {
      "cell_type": "markdown",
      "source": [
        "4. Write a Python program to solve quadratic equation?"
      ],
      "metadata": {
        "id": "dtCWdoI5a406"
      }
    },
    {
      "cell_type": "code",
      "source": [
        "import math\n",
        "# 3x^2+5x-7=0 quadratic equation\n",
        "a = 3\n",
        "b = 5\n",
        "c = -7\n",
        "x1 = (-b + math.sqrt(b**2 - 4*a*c))/(2*a) # x = -b + root(b^2 - 4ac)\n",
        "x2 = (-b - math.sqrt(b**2 - 4*a*c))/(2*a) # x = -b - root(b^2 - 4ac)\n",
        "print(f\"{x1:.3f}, {x2:.3f}\") # printint the value with 3 digit after decimal"
      ],
      "metadata": {
        "colab": {
          "base_uri": "https://localhost:8080/"
        },
        "id": "pTY4JiDqa5th",
        "outputId": "4e00b8ef-d97f-42cd-86e7-eea1bec3ea7a"
      },
      "execution_count": 4,
      "outputs": [
        {
          "output_type": "stream",
          "name": "stdout",
          "text": [
            "0.907, -2.573\n"
          ]
        }
      ]
    },
    {
      "cell_type": "markdown",
      "source": [
        "5. Write a Python program to swap two variables without temp variable?"
      ],
      "metadata": {
        "id": "ubQK06mMa70A"
      }
    },
    {
      "cell_type": "code",
      "execution_count": 5,
      "metadata": {
        "colab": {
          "base_uri": "https://localhost:8080/"
        },
        "id": "e_QpkoPtZpdF",
        "outputId": "722a4226-9491-4033-ac2c-fb5dcc739593"
      },
      "outputs": [
        {
          "output_type": "stream",
          "name": "stdout",
          "text": [
            "7 8\n"
          ]
        }
      ],
      "source": [
        "a = 8\n",
        "b = 7\n",
        "a, b = b, a # a gets assign to b and b gets assign to a\n",
        "print(a,b) "
      ]
    }
  ]
}