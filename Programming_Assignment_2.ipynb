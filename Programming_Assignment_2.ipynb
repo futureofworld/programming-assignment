{
  "nbformat": 4,
  "nbformat_minor": 0,
  "metadata": {
    "colab": {
      "name": "Programming_Assignment_2.ipynb",
      "provenance": [],
      "authorship_tag": "ABX9TyPmjUkgwodGYYtn50AQ28aE"
    },
    "kernelspec": {
      "name": "python3",
      "display_name": "Python 3"
    },
    "language_info": {
      "name": "python"
    }
  },
  "cells": [
    {
      "cell_type": "markdown",
      "source": [
        "1. Write a Python program to convert kilometers to miles?"
      ],
      "metadata": {
        "id": "zqpV-sE3Z1DS"
      }
    },
    {
      "cell_type": "code",
      "source": [
        "kilometer = 10\n",
        "miles = kilometer/1.609\n",
        "print(miles)"
      ],
      "metadata": {
        "colab": {
          "base_uri": "https://localhost:8080/"
        },
        "id": "Kuad2jENZ2SB",
        "outputId": "350b6de8-6cb3-41d1-d2fc-964a329de852"
      },
      "execution_count": 1,
      "outputs": [
        {
          "output_type": "stream",
          "name": "stdout",
          "text": [
            "6.215040397762586\n"
          ]
        }
      ]
    },
    {
      "cell_type": "markdown",
      "source": [
        "2. Write a Python program to convert Celsius to Fahrenheit?"
      ],
      "metadata": {
        "id": "aCVCfddhaEby"
      }
    },
    {
      "cell_type": "code",
      "source": [
        "celsius = 35\n",
        "fahrenheit = celsius*(9/5) + 32\n",
        "print(fahrenheit)"
      ],
      "metadata": {
        "colab": {
          "base_uri": "https://localhost:8080/"
        },
        "id": "47iHIR76aFOC",
        "outputId": "8621c04f-8fe3-4d28-d67a-a5571ed2d175"
      },
      "execution_count": 2,
      "outputs": [
        {
          "output_type": "stream",
          "name": "stdout",
          "text": [
            "95.0\n"
          ]
        }
      ]
    },
    {
      "cell_type": "markdown",
      "source": [
        "3. Write a Python program to display calendar?"
      ],
      "metadata": {
        "id": "Vy1FDU4MaTSp"
      }
    },
    {
      "cell_type": "code",
      "source": [
        "import calendar\n",
        "year = 2022\n",
        "month = 6\n",
        "print(calendar.month(year, month))"
      ],
      "metadata": {
        "colab": {
          "base_uri": "https://localhost:8080/"
        },
        "id": "yZv3s3xdaUx0",
        "outputId": "a1ca696a-2126-4b8c-b74e-cf990dd3979e"
      },
      "execution_count": 3,
      "outputs": [
        {
          "output_type": "stream",
          "name": "stdout",
          "text": [
            "     June 2022\n",
            "Mo Tu We Th Fr Sa Su\n",
            "       1  2  3  4  5\n",
            " 6  7  8  9 10 11 12\n",
            "13 14 15 16 17 18 19\n",
            "20 21 22 23 24 25 26\n",
            "27 28 29 30\n",
            "\n"
          ]
        }
      ]
    },
    {
      "cell_type": "markdown",
      "source": [
        "4. Write a Python program to solve quadratic equation?"
      ],
      "metadata": {
        "id": "dtCWdoI5a406"
      }
    },
    {
      "cell_type": "code",
      "source": [
        "import math\n",
        "# 3x^2+5x-7=0 quadratic equation\n",
        "a = 3\n",
        "b = 5\n",
        "c = -7\n",
        "x1 = (-b + math.sqrt(b**2 - 4*a*c))/(2*a)\n",
        "x2 = (-b - math.sqrt(b**2 - 4*a*c))/(2*a)\n",
        "print(f\"{x1:.3f}, {x2:.3f}\")"
      ],
      "metadata": {
        "colab": {
          "base_uri": "https://localhost:8080/"
        },
        "id": "pTY4JiDqa5th",
        "outputId": "a6bc80a1-21c8-405c-fd40-8dc239be7708"
      },
      "execution_count": 4,
      "outputs": [
        {
          "output_type": "stream",
          "name": "stdout",
          "text": [
            "0.907, -2.573\n"
          ]
        }
      ]
    },
    {
      "cell_type": "markdown",
      "source": [
        "5. Write a Python program to swap two variables without temp variable?"
      ],
      "metadata": {
        "id": "ubQK06mMa70A"
      }
    },
    {
      "cell_type": "code",
      "execution_count": 5,
      "metadata": {
        "colab": {
          "base_uri": "https://localhost:8080/"
        },
        "id": "e_QpkoPtZpdF",
        "outputId": "aa01bc3d-103c-4abd-f223-ba9a4e1f9378"
      },
      "outputs": [
        {
          "output_type": "stream",
          "name": "stdout",
          "text": [
            "7 8\n"
          ]
        }
      ],
      "source": [
        "a = 8\n",
        "b = 7\n",
        "a, b = b, a\n",
        "print(a,b) "
      ]
    }
  ]
}