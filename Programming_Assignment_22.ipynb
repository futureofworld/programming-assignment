{
  "nbformat": 4,
  "nbformat_minor": 0,
  "metadata": {
    "colab": {
      "name": "Programming_Assignment_22.ipynb",
      "provenance": [],
      "collapsed_sections": [],
      "authorship_tag": "ABX9TyMB8y1c4RZwi0rsUqklZ6V/"
    },
    "kernelspec": {
      "name": "python3",
      "display_name": "Python 3"
    },
    "language_info": {
      "name": "python"
    }
  },
  "cells": [
    {
      "cell_type": "markdown",
      "source": [
        "## Question1\n",
        "Create a function that takes three parameters where\n",
        "\n",
        "*   x is the start of the range (inclusive).\n",
        "*   y is the end of the range (inclusive).  \n",
        "*   n is the divisor to be checked against.\n",
        "\n",
        "Return an ordered list with numbers in the range that are divisible by the third parameter n.\n",
        "\n",
        "Return an empty list if there are no numbers that are divisible by n.\n",
        "\n",
        "Examples\n",
        "\n",
        "list_operation(1, 10, 3) ➞ [3, 6, 9]\n",
        "\n",
        "list_operation(7, 9, 2) ➞ [8]\n",
        "\n",
        "list_operation(15, 20, 7) ➞ []"
      ],
      "metadata": {
        "id": "5Sb7ZATprXB_"
      }
    },
    {
      "cell_type": "code",
      "execution_count": 1,
      "metadata": {
        "colab": {
          "base_uri": "https://localhost:8080/"
        },
        "id": "nTxqMUvprVC-",
        "outputId": "5649a042-aa37-42bb-dfb6-5f45678554d9"
      },
      "outputs": [
        {
          "output_type": "stream",
          "name": "stdout",
          "text": [
            "[3, 6, 9]\n",
            "[8]\n",
            "[]\n"
          ]
        }
      ],
      "source": [
        "def list_operation(start, end, divisor):\n",
        "    lst = []\n",
        "    for i in range(start, end+1):\n",
        "        if i%divisor == 0:\n",
        "            lst.append(i)\n",
        "            i += divisor\n",
        "    print(lst)\n",
        "\n",
        "list_operation(1,10,3)\n",
        "list_operation(7,9,2)\n",
        "list_operation(15,20,7)"
      ]
    },
    {
      "cell_type": "markdown",
      "source": [
        "## Question2\n",
        "Create a function that takes in two lists and returns True if the second list follows the first list\n",
        "by one element, and False otherwise. In other words, determine if the second list is the first\n",
        "list shifted to the right by 1.\n",
        "\n",
        "Examples\n",
        "\n",
        "simon_says([1, 2], [5, 1]) ➞ True\n",
        "\n",
        "simon_says([1, 2], [5, 5]) ➞ False\n",
        "\n",
        "simon_says([1, 2, 3, 4, 5], [0, 1, 2, 3, 4]) ➞ True\n",
        "\n",
        "simon_says([1, 2, 3, 4, 5], [5, 5, 1, 2, 3]) ➞ False\n",
        "\n",
        "Notes\n",
        "*   Both input lists will be of the same length, and will have a minimum length of 2.\n",
        "*   The values of the 0-indexed element in the second list and the n-1th indexed element\n",
        "in the first list do not matter."
      ],
      "metadata": {
        "id": "0n2byIkMsV4-"
      }
    },
    {
      "cell_type": "code",
      "source": [
        "def simon_says(lst1, lst2):\n",
        "    for i in range(len(lst1)-1):\n",
        "        if lst1[i] != lst2[i+1]:\n",
        "            return False\n",
        "    return True\n",
        "\n",
        "print(simon_says([1,2], [5,1]))\n",
        "print(simon_says([1,2], [5,5]))\n",
        "print(simon_says([1, 2, 3, 4, 5], [0, 1, 2, 3, 4]))\n",
        "print(simon_says([1, 2, 3, 4, 5], [5, 5, 1, 2, 3]))"
      ],
      "metadata": {
        "colab": {
          "base_uri": "https://localhost:8080/"
        },
        "id": "NOgI_oRRshGe",
        "outputId": "94ddfb4a-6fc9-4c0f-b82e-f043068f49f9"
      },
      "execution_count": 2,
      "outputs": [
        {
          "output_type": "stream",
          "name": "stdout",
          "text": [
            "True\n",
            "False\n",
            "True\n",
            "False\n"
          ]
        }
      ]
    },
    {
      "cell_type": "markdown",
      "source": [
        "## Question3\n",
        "A group of friends have decided to start a secret society. The name will be the first letter of\n",
        "each of their names, sorted in alphabetical order.\n",
        "Create a function that takes in a list of names and returns the name of the secret society.\n",
        "\n",
        "Examples\n",
        "\n",
        "society_name([&quot;Adam&quot;, &quot;Sarah&quot;, &quot;Malcolm&quot;]) ➞ &quot;AMS&quot;\n",
        "\n",
        "society_name([&quot;Harry&quot;, &quot;Newt&quot;, &quot;Luna&quot;, &quot;Cho&quot;]) ➞ &quot;CHLN&quot;\n",
        "\n",
        "society_name([&quot;Phoebe&quot;, &quot;Chandler&quot;, &quot;Rachel&quot;, &quot;Ross&quot;, &quot;Monica&quot;, &quot;Joey&quot;])"
      ],
      "metadata": {
        "id": "UaLoMlv9tzmd"
      }
    },
    {
      "cell_type": "code",
      "source": [
        "def society_name(lst):\n",
        "    for i in lst:\n",
        "        print(i[0], end='')\n",
        "    print('')\n",
        "\n",
        "society_name([\"Adam\", \"Sarah\", \"Malcolm\"])\n",
        "society_name([\"Harry\", \"Newt\", \"Luna\", \"Cho\"])\n",
        "society_name([\"Phoebe\", \"Chandler\", \"Rachel\", \"Ross\", \"Monica\", \"Joey\"])"
      ],
      "metadata": {
        "colab": {
          "base_uri": "https://localhost:8080/"
        },
        "id": "6gTE8Pfvt13D",
        "outputId": "b0261e40-801e-4da6-f8e0-d225a44333db"
      },
      "execution_count": 3,
      "outputs": [
        {
          "output_type": "stream",
          "name": "stdout",
          "text": [
            "ASM\n",
            "HNLC\n",
            "PCRRMJ\n"
          ]
        }
      ]
    },
    {
      "cell_type": "markdown",
      "source": [
        "## Question4\n",
        "An isogram is a word that has no duplicate letters. Create a function that takes a string and\n",
        "returns either True or False depending on whether or not it&#39;s an &quot;isogram&quot;.\n",
        "Examples\n",
        "\n",
        "is_isogram(&quot;Algorism&quot;) ➞ True\n",
        "\n",
        "is_isogram(&quot;PasSword&quot;) ➞ False\n",
        "\n",
        "Not case sensitive.\n",
        "\n",
        "is_isogram(&quot;Consecutive&quot;) ➞ False\n",
        "\n",
        "Notes\n",
        "* Ignore letter case (should not be case sensitive).\n",
        "* All test cases contain valid one word strings."
      ],
      "metadata": {
        "id": "F4Y3_ekiuPsT"
      }
    },
    {
      "cell_type": "code",
      "source": [
        "def is_isogram(string):\n",
        "    string = string.lower()\n",
        "    for i in string:\n",
        "        new_string = string.replace(i, '', 1)\n",
        "        if i in new_string:\n",
        "            return False\n",
        "    return True\n",
        "\n",
        "print(is_isogram('Algorism'))\n",
        "print(is_isogram('PasSword'))\n",
        "print(is_isogram('Consecutive'))"
      ],
      "metadata": {
        "colab": {
          "base_uri": "https://localhost:8080/"
        },
        "id": "YXKnF8yCuYaT",
        "outputId": "ed0d5d1b-6cb0-4324-bf04-d232a0946216"
      },
      "execution_count": 4,
      "outputs": [
        {
          "output_type": "stream",
          "name": "stdout",
          "text": [
            "True\n",
            "False\n",
            "False\n"
          ]
        }
      ]
    },
    {
      "cell_type": "markdown",
      "source": [
        "## Question5\n",
        "Create a function that takes a string and returns True or False, depending on whether the\n",
        "characters are in order or not.\n",
        "\n",
        "Examples\n",
        "\n",
        "is_in_order(&quot;abc&quot;) ➞ True\n",
        "\n",
        "is_in_order(&quot;edabit&quot;) ➞ False\n",
        "\n",
        "is_in_order(&quot;123&quot;) ➞ True\n",
        "\n",
        "is_in_order(&quot;xyzz&quot;) ➞ True\n",
        "\n",
        "Notes\n",
        "You don&#39;t have to handle empty strings."
      ],
      "metadata": {
        "id": "ZnNzWQqhvIRi"
      }
    },
    {
      "cell_type": "code",
      "source": [
        "def is_in_order(string):\n",
        "    sort = sorted(string)\n",
        "    new_string = ''.join(sort)\n",
        "    if new_string == string:\n",
        "        print(True)\n",
        "    else:\n",
        "        print(False)\n",
        "\n",
        "is_in_order('abc')\n",
        "is_in_order('\"edabit\"')\n",
        "is_in_order('123')\n",
        "is_in_order('xyzz')"
      ],
      "metadata": {
        "colab": {
          "base_uri": "https://localhost:8080/"
        },
        "id": "fmIoXO3gvLQB",
        "outputId": "1f486e6a-2bc3-4c8c-866c-ff4d446a3fd6"
      },
      "execution_count": 5,
      "outputs": [
        {
          "output_type": "stream",
          "name": "stdout",
          "text": [
            "True\n",
            "False\n",
            "True\n",
            "True\n"
          ]
        }
      ]
    }
  ]
}