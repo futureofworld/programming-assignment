{
  "nbformat": 4,
  "nbformat_minor": 0,
  "metadata": {
    "colab": {
      "name": "Programming_Assignment_24.ipynb",
      "provenance": [],
      "authorship_tag": "ABX9TyNxS1ZFeTsstZtXuc+VoDc7"
    },
    "kernelspec": {
      "name": "python3",
      "display_name": "Python 3"
    },
    "language_info": {
      "name": "python"
    }
  },
  "cells": [
    {
      "cell_type": "markdown",
      "source": [
        "## Question1\n",
        "Create a function that takes an integer and returns a list from 1 to the given number, where:\n",
        "1. If the number can be divided evenly by 4, amplify it by 10 (i.e. return 10 times the\n",
        "number).\n",
        "2. If the number cannot be divided evenly by 4, simply return the number.\n",
        "\n",
        "Examples\n",
        "\n",
        "amplify(4) ➞ [1, 2, 3, 40]\n",
        "\n",
        "amplify(3) ➞ [1, 2, 3]\n",
        "\n",
        "amplify(25) ➞ [1, 2, 3, 40, 5, 6, 7, 80, 9, 10, 11, 120, 13, 14, 15, 160,\n",
        "17, 18, 19, 200, 21, 22, 23, 240, 25]\n",
        "Notes\n",
        "* The given integer will always be equal to or greater than 1.\n",
        "* Include the number (see example above).\n",
        "* To perform this problem with its intended purpose, try doing it with list\n",
        "comprehensions. If that&#39;s too difficult, just solve the challenge any way you can."
      ],
      "metadata": {
        "id": "7NWcqerAcWqk"
      }
    },
    {
      "cell_type": "code",
      "execution_count": 1,
      "metadata": {
        "colab": {
          "base_uri": "https://localhost:8080/"
        },
        "id": "GpSvcSX1cWFc",
        "outputId": "931fd094-b566-47fd-902e-5f5102a24f4a"
      },
      "outputs": [
        {
          "output_type": "stream",
          "name": "stdout",
          "text": [
            "[1, 2, 3, 40]\n",
            "[1, 2, 3]\n",
            "[1, 2, 3, 40, 5, 6, 7, 80, 9, 10, 11, 120, 13, 14, 15, 160, 17, 18, 19, 200, 21, 22, 23, 240, 25]\n"
          ]
        }
      ],
      "source": [
        "def amplify(num):\n",
        "    lst = [i*10 if(i%4)==0 else i for i in range(1, num+1)  ]\n",
        "    print(lst)\n",
        "\n",
        "amplify(4)\n",
        "amplify(3)\n",
        "amplify(25)"
      ]
    },
    {
      "cell_type": "markdown",
      "source": [
        "## Question2\n",
        "Create a function that takes a list of numbers and return the number that&#39;s unique.\n",
        "\n",
        "Examples\n",
        "\n",
        "unique([3, 3, 3, 7, 3, 3]) ➞ 7\n",
        "\n",
        "unique([0, 0, 0.77, 0, 0]) ➞ 0.77\n",
        "\n",
        "unique([0, 1, 1, 1, 1, 1, 1, 1]) ➞ 0\n",
        "\n",
        "Notes\n",
        "Test cases will always have exactly one unique number while all others are the same."
      ],
      "metadata": {
        "id": "7BQtmOAaeUKJ"
      }
    },
    {
      "cell_type": "code",
      "source": [
        "def unique(lst):\n",
        "    for i in range(len(lst)):\n",
        "        new_lst = [lst[j] for j in range(len(lst)) if i!=j]\n",
        "        if lst[i] not in new_lst:\n",
        "            print(lst[i])\n",
        "\n",
        "unique([3,3,3,7,3,3])\n",
        "unique([0, 0, 0.77, 0, 0])\n",
        "unique([0, 1, 1, 1, 1, 1, 1, 1])"
      ],
      "metadata": {
        "colab": {
          "base_uri": "https://localhost:8080/"
        },
        "id": "uMUAl1wUeXbw",
        "outputId": "f39f023a-ed11-4bc4-88ef-fd8697dfcfb1"
      },
      "execution_count": 2,
      "outputs": [
        {
          "output_type": "stream",
          "name": "stdout",
          "text": [
            "7\n",
            "0.77\n",
            "0\n"
          ]
        }
      ]
    },
    {
      "cell_type": "markdown",
      "source": [
        "## Question3\n",
        "Your task is to create a Circle constructor that creates a circle with a radius provided by an\n",
        "argument. The circles constructed must have two getters getArea() (PIr^2) and\n",
        "getPerimeter() (2PI*r) which give both respective areas and perimeter (circumference).\n",
        "\n",
        "For help with this class, I have provided you with a Rectangle constructor which you can use\n",
        "as a base example.\n",
        "\n",
        "Examples\n",
        "\n",
        "circy = Circle(11)\n",
        "\n",
        "circy.getArea()\n",
        "\n",
        "Should return 380.132711084365\n",
        "\n",
        "circy = Circle(4.44)\n",
        "\n",
        "circy.getPerimeter()\n",
        "\n",
        "Should return 27.897342763877365\n",
        "\n",
        "Notes\n",
        "Round results up to the nearest integer."
      ],
      "metadata": {
        "id": "GG-8T79-i29j"
      }
    },
    {
      "cell_type": "code",
      "source": [
        "import math\n",
        "class Circle():\n",
        "    def __init__(self, radius):\n",
        "        self.radius = radius\n",
        "\n",
        "    def getArea(self):\n",
        "        return round(math.pi * (self.radius**2))\n",
        "\n",
        "    def getPerimeter(self):\n",
        "        return round(2 * math.pi * self.radius)\n",
        "\n",
        "circy = Circle(11)\n",
        "print(circy.getArea())\n",
        "\n",
        "circy = Circle(4.44)\n",
        "print(circy.getPerimeter())"
      ],
      "metadata": {
        "colab": {
          "base_uri": "https://localhost:8080/"
        },
        "id": "Q_59gNami9WB",
        "outputId": "445dd94f-3700-463e-8d8b-846462dfadfb"
      },
      "execution_count": 3,
      "outputs": [
        {
          "output_type": "stream",
          "name": "stdout",
          "text": [
            "380\n",
            "28\n"
          ]
        }
      ]
    },
    {
      "cell_type": "markdown",
      "source": [
        "## Question4\n",
        "Create a function that takes a list of strings and return a list, sorted from shortest to longest.\n",
        "\n",
        "Examples\n",
        "\n",
        "sort_by_length([&quot;Google&quot;, &quot;Apple&quot;, &quot;Microsoft&quot;])\n",
        "➞ [&quot;Apple&quot;, &quot;Google&quot;, &quot;Microsoft&quot;]\n",
        "\n",
        "sort_by_length([&quot;Leonardo&quot;, &quot;Michelangelo&quot;, &quot;Raphael&quot;, &quot;Donatello&quot;])\n",
        "➞ [&quot;Raphael&quot;, &quot;Leonardo&quot;, &quot;Donatello&quot;, &quot;Michelangelo&quot;]\n",
        "\n",
        "sort_by_length([&quot;Turing&quot;, &quot;Einstein&quot;, &quot;Jung&quot;])\n",
        "➞ [&quot;Jung&quot;, &quot;Turing&quot;, &quot;Einstein&quot;]\n",
        "\n",
        "Notes\n",
        "\n",
        "All test cases contain lists with strings of different lengths, so you won&#39;t have to deal with\n",
        "multiple strings of the same length."
      ],
      "metadata": {
        "id": "VDqkZvJAlEER"
      }
    },
    {
      "cell_type": "code",
      "source": [
        "def sort_by_length(lst):\n",
        "    for i in range(len(lst)-1):\n",
        "        for j in range(i+1, len(lst)):\n",
        "            if len(lst[i]) > len(lst[j]):\n",
        "                temp = lst[i]\n",
        "                lst[i] = lst[j]\n",
        "                lst[j] = temp\n",
        "    print(lst)\n",
        "\n",
        "sort_by_length([\"Google\", \"Apple\", \"Microsoft\"])\n",
        "sort_by_length([\"Leonardo\", \"Michelangelo\", \"Raphael\", \"Donatello\"])\n",
        "sort_by_length([\"Turing\", \"Einstein\", \"Jung\"])"
      ],
      "metadata": {
        "colab": {
          "base_uri": "https://localhost:8080/"
        },
        "id": "7LQeDxGYlJrn",
        "outputId": "15eb484a-d132-4826-b402-753345588a81"
      },
      "execution_count": 4,
      "outputs": [
        {
          "output_type": "stream",
          "name": "stdout",
          "text": [
            "['Apple', 'Google', 'Microsoft']\n",
            "['Raphael', 'Leonardo', 'Donatello', 'Michelangelo']\n",
            "['Jung', 'Turing', 'Einstein']\n"
          ]
        }
      ]
    },
    {
      "cell_type": "markdown",
      "source": [
        "## Question5\n",
        "Create a function that validates whether three given integers form a Pythagorean triplet. The\n",
        "sum of the squares of the two smallest integers must equal the square of the largest number to\n",
        "be validated.\n",
        "\n",
        "Examples\n",
        "\n",
        "is_triplet(3, 4, 5) ➞ True\n",
        "\n",
        " 3² + 4² = 25\n",
        "\n",
        " 5² = 25\n",
        "\n",
        "is_triplet(13, 5, 12) ➞ True\n",
        "\n",
        " 5² + 12² = 169\n",
        "\n",
        " 13² = 169\n",
        "\n",
        "is_triplet(1, 2, 3) ➞ False\n",
        "\n",
        " 1² + 2² = 5\n",
        "\n",
        " 3² = 9\n",
        " \n",
        "Notes\n",
        "Numbers may not be given in a sorted order."
      ],
      "metadata": {
        "id": "N9yqTpK2m5h-"
      }
    },
    {
      "cell_type": "code",
      "source": [
        "def is_triplet(num1, num2, num3):\n",
        "    if num1>num2:\n",
        "        if num1>num3:\n",
        "            hyp = num1\n",
        "            side1 = num2\n",
        "            side2 = num3\n",
        "        else:\n",
        "            large = num3\n",
        "            side1 = num1\n",
        "            side2 = num2\n",
        "    else:\n",
        "        if num2>num3:\n",
        "            hyp = num2\n",
        "            side1 = num1\n",
        "            side2 = num3\n",
        "        else:\n",
        "            hyp = num3\n",
        "            side1 = num1\n",
        "            side2 = num2\n",
        "\n",
        "    if (side1**2 + side2**2) == hyp**2:\n",
        "        return True\n",
        "    else:\n",
        "        return False\n",
        "\n",
        "\n",
        "print(is_triplet(3,4,5))\n",
        "print(is_triplet(13,5,12))\n",
        "print(is_triplet(1,2,3))   "
      ],
      "metadata": {
        "colab": {
          "base_uri": "https://localhost:8080/"
        },
        "id": "BSobnYEFnAUW",
        "outputId": "b28b4d3b-005b-4381-f356-0f94f719dce3"
      },
      "execution_count": 5,
      "outputs": [
        {
          "output_type": "stream",
          "name": "stdout",
          "text": [
            "True\n",
            "True\n",
            "False\n"
          ]
        }
      ]
    }
  ]
}