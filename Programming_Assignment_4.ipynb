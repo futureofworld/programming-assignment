{
  "nbformat": 4,
  "nbformat_minor": 0,
  "metadata": {
    "colab": {
      "name": "Programming_Assignment_4.ipynb",
      "provenance": [],
      "authorship_tag": "ABX9TyOv7p979HiuiDXqAhFpAGel"
    },
    "kernelspec": {
      "name": "python3",
      "display_name": "Python 3"
    },
    "language_info": {
      "name": "python"
    }
  },
  "cells": [
    {
      "cell_type": "markdown",
      "source": [
        "1. Write a Python Program to Find the Factorial of a Number?"
      ],
      "metadata": {
        "id": "mYTc2XeGp-9n"
      }
    },
    {
      "cell_type": "code",
      "execution_count": 1,
      "metadata": {
        "colab": {
          "base_uri": "https://localhost:8080/"
        },
        "id": "RaLG1mmJp9Wy",
        "outputId": "bfcfa386-53dc-40ec-b9db-eb2019e58e9d"
      },
      "outputs": [
        {
          "output_type": "stream",
          "name": "stdout",
          "text": [
            "120\n"
          ]
        }
      ],
      "source": [
        "def factorial(num):\n",
        "    if (num == 1):\n",
        "        return 1\n",
        "    return num * factorial(num-1)\n",
        "\n",
        "print(factorial(5))"
      ]
    },
    {
      "cell_type": "markdown",
      "source": [
        "2. Write a Python Program to Display the multiplication Table?"
      ],
      "metadata": {
        "id": "KyVMk9zYqY4d"
      }
    },
    {
      "cell_type": "code",
      "source": [
        "def table(num, i):\n",
        "    if i == 10:\n",
        "        print(f'{num} x {i} = {num*i}')\n",
        "        return\n",
        "    print(f'{num} x {i} = {num*i}')\n",
        "    table(num, i+1)\n",
        "\n",
        "table(2, 1)"
      ],
      "metadata": {
        "colab": {
          "base_uri": "https://localhost:8080/"
        },
        "id": "koSYlcvwqbx1",
        "outputId": "4a51e8bd-6565-4b0d-850b-f569b437226d"
      },
      "execution_count": 2,
      "outputs": [
        {
          "output_type": "stream",
          "name": "stdout",
          "text": [
            "2 x 1 = 2\n",
            "2 x 2 = 4\n",
            "2 x 3 = 6\n",
            "2 x 4 = 8\n",
            "2 x 5 = 10\n",
            "2 x 6 = 12\n",
            "2 x 7 = 14\n",
            "2 x 8 = 16\n",
            "2 x 9 = 18\n",
            "2 x 10 = 20\n"
          ]
        }
      ]
    },
    {
      "cell_type": "markdown",
      "source": [
        "3. Write a Python Program to Print the Fibonacci sequence?"
      ],
      "metadata": {
        "id": "-ED1evk1sf5L"
      }
    },
    {
      "cell_type": "code",
      "source": [
        "def fib(first, second):\n",
        "    if (second >= 100):\n",
        "        return\n",
        "    if (first == 0):\n",
        "        print(first)\n",
        "    print(second)\n",
        "    temp = first\n",
        "    first = second\n",
        "    second = temp + first\n",
        "    fib(first, second)\n",
        "\n",
        "fib(0,1)"
      ],
      "metadata": {
        "colab": {
          "base_uri": "https://localhost:8080/"
        },
        "id": "SAzmp_TBsgjb",
        "outputId": "a87439f1-ea21-4c7f-a2e5-8927f8afa8f4"
      },
      "execution_count": 3,
      "outputs": [
        {
          "output_type": "stream",
          "name": "stdout",
          "text": [
            "0\n",
            "1\n",
            "1\n",
            "2\n",
            "3\n",
            "5\n",
            "8\n",
            "13\n",
            "21\n",
            "34\n",
            "55\n",
            "89\n"
          ]
        }
      ]
    },
    {
      "cell_type": "markdown",
      "source": [
        "4. Write a Python Program to Check Armstrong Number?"
      ],
      "metadata": {
        "id": "TT5hh7a1tcMC"
      }
    },
    {
      "cell_type": "code",
      "source": [
        "def armstrong(num):\n",
        "    if (num < 10):\n",
        "        return num**3\n",
        "    return (num%10)**3 + armstrong(num//10)\n",
        "\n",
        "num = 153\n",
        "\n",
        "if (num == armstrong(num)):\n",
        "    print('Number is a armstrong number')\n",
        "else:\n",
        "    print('Number is not a armstrong number')"
      ],
      "metadata": {
        "colab": {
          "base_uri": "https://localhost:8080/"
        },
        "id": "-QKSyw7Ctb4S",
        "outputId": "f88949fa-734c-4088-e646-d6d7e4b7ea23"
      },
      "execution_count": 4,
      "outputs": [
        {
          "output_type": "stream",
          "name": "stdout",
          "text": [
            "Number is a armstrong number\n"
          ]
        }
      ]
    },
    {
      "cell_type": "markdown",
      "source": [
        "5. Write a Python Program to Find Armstrong Number in an Interval?"
      ],
      "metadata": {
        "id": "eSh4lNh1uJMR"
      }
    },
    {
      "cell_type": "code",
      "source": [
        "start = 100\n",
        "end = 1000\n",
        "\n",
        "def armstrong(num):\n",
        "    if (num < 10):\n",
        "        return num**3\n",
        "    return (num%10)**3 + armstrong(num//10)\n",
        "\n",
        "for i in range(start, end):\n",
        "    if i == armstrong(i):\n",
        "        print(f'Armstrong number is {i}')"
      ],
      "metadata": {
        "colab": {
          "base_uri": "https://localhost:8080/"
        },
        "id": "hEG7zN0NuMKp",
        "outputId": "98d4ad58-9ee7-46e2-d1e9-39b659216d0e"
      },
      "execution_count": 5,
      "outputs": [
        {
          "output_type": "stream",
          "name": "stdout",
          "text": [
            "Armstrong number is 153\n",
            "Armstrong number is 370\n",
            "Armstrong number is 371\n",
            "Armstrong number is 407\n"
          ]
        }
      ]
    },
    {
      "cell_type": "markdown",
      "source": [
        "6. Write a Python Program to Find the Sum of Natural Numbers?"
      ],
      "metadata": {
        "id": "wgIpZ2bLuyMJ"
      }
    },
    {
      "cell_type": "code",
      "source": [
        "num = 10\n",
        "\n",
        "sum = (num*(num +1))/2\n",
        "print(sum)"
      ],
      "metadata": {
        "colab": {
          "base_uri": "https://localhost:8080/"
        },
        "id": "yVIV7CikuyhZ",
        "outputId": "f167a8f4-db4d-412c-c2d0-06c525eacb1e"
      },
      "execution_count": 6,
      "outputs": [
        {
          "output_type": "stream",
          "name": "stdout",
          "text": [
            "55.0\n"
          ]
        }
      ]
    }
  ]
}